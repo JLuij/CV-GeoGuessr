{
 "cells": [
  {
   "cell_type": "code",
   "execution_count": 74,
   "outputs": [],
   "source": [
    "%load_ext autoreload\n",
    "%autoreload 2"
   ],
   "metadata": {
    "collapsed": false,
    "pycharm": {
     "name": "#%%\n"
    }
   }
  },
  {
   "cell_type": "markdown",
   "metadata": {},
   "source": [
    "## Imports"
   ]
  },
  {
   "cell_type": "markdown",
   "metadata": {},
   "source": [
    "### Libraries"
   ]
  },
  {
   "cell_type": "code",
   "execution_count": 1,
   "metadata": {
    "id": "GuAMBdiZRYj6"
   },
   "outputs": [],
   "source": [
    "import torch\n",
    "import torch.nn as nn\n",
    "import torchvision.models as models\n",
    "from tqdm import tqdm\n",
    "import torchvision.transforms as transforms\n",
    "from torch.utils.tensorboard import SummaryWriter\n",
    "from torch.utils.data import DataLoader\n",
    "from torchsummary import summary\n",
    "import copy\n",
    "from datetime import time"
    "from torchsummary import summary\n",
    "import torch.optim as optim\n",
    "import wandb"
   ]
  },
  {
   "cell_type": "markdown",
   "metadata": {},
   "source": [
    "### Tensorboard"
   ]
  },
  {
   "cell_type": "code",
   "execution_count": 140,
   "metadata": {},
   "outputs": [
    {
     "name": "stdout",
     "output_type": "stream",
     "text": [
      "The tensorboard extension is already loaded. To reload it, use:\n",
      "  %reload_ext tensorboard\n"
     ]
    }
   ],
   "source": [
    "%load_ext tensorboard"
   ]
  },
  {
   "cell_type": "code",
   "execution_count": 141,
   "metadata": {},
   "outputs": [
    {
     "name": "stderr",
     "output_type": "stream",
     "text": [
      "\u001b[34m\u001b[1mwandb\u001b[0m: \u001b[33mWARNING\u001b[0m When using several event log directories, please call `wandb.tensorboard.patch(root_logdir=\"...\")` before `wandb.init`\n"
     ]
    }
   ],
   "source": [
    "writer = SummaryWriter()"
   ]
  },
  {
   "cell_type": "markdown",
   "metadata": {},
   "source": [
    "### Custom"
   ]
  },
  {
   "cell_type": "code",
   "execution_count": 2,
   "metadata": {},
   "outputs": [],
   "source": [
    "from cv_geoguessr.data.StreetViewImagesDataset import StreetViewImagesDataset\n",
    "\n",
    "from cv_geoguessr.grid.grid_partitioning import Partitioning\n",
    "\n",
    "from cv_geoguessr.utils.plot_images import plot_images\n",
    "\n",
    "from cv_geoguessr.utils.evaluation import create_confusion_matrix\n"
   ]
  },
  {
   "cell_type": "markdown",
   "metadata": {
    "id": "BU35l2nkR-jQ"
   },
   "source": [
    "## Colab specific\n",
    "\n",
    "Run only when using Colab."
   ]
  },
  {
   "cell_type": "code",
   "execution_count": 3,
   "metadata": {
    "colab": {
     "base_uri": "https://localhost:8080/"
    },
    "id": "xFBsSFHYRnly",
    "outputId": "9caa7245-5191-4d28-e4b9-773bb750d4b4"
   },
   "outputs": [],
   "source": [
    "COLAB = False\n",
    "\n",
    "if COLAB:\n",
    "    from google.colab import drive\n",
    "    drive.mount('/content/drive')"
   ]
  },
  {
   "cell_type": "markdown",
   "metadata": {},
   "source": [
    "## Logging in via WandB"
   ]
  },
  {
   "cell_type": "code",
   "execution_count": null,
   "metadata": {},
   "outputs": [],
   "source": [
    "wandb.init(project=\"CV-GeoGuessr\", entity=\"cv-geoguessr\", sync_tensorboard=True)"
   ]
  },
  {
   "cell_type": "markdown",
   "metadata": {
    "id": "kjG6VYkUUMsn"
   },
   "source": [
    "## Model constants"
   ]
  },
  {
   "cell_type": "code",
   "execution_count": 51,
   "metadata": {
    "id": "iICk0TsLUOe-"
   },
   "outputs": [],
   "source": [
    "device = torch.device(\"cuda:0\" if torch.cuda.is_available() else \"cpu\")\n",
    "\n",
    "TRAIN_BATCH_SIZE = 32\n",
    "TEST_BATCH_SIZE = 100\n",
    "CELL_WIDTH = 0.04\n",
    "\n",
    "SAMPLES_TO_SHOW = 5\n",
    "\n",
    "IMAGENET_MEAN = torch.tensor([0.485, 0.456, 0.406], device = device)\n",
    "IMAGENET_STD = torch.tensor([0.229, 0.224, 0.225], device = device)\n",
    "\n",
    "CITY_BOUNDS_FILE = '../data/metadata/citybounds/london.csv'\n",
    "GCLOUD_CITY_BOUNDS_FILE = '../data/metadata/city bounds/london.csv'\n",
    "\n",
    "COLAB_LONDON_PHOTO_DIR = lambda train: f'/content/drive/MyDrive/Documents/University/2021-2022/CS4245 Computer Vision/data/images/{\"train\" if train else \"test\"}/london'\n",
    "LOCAL_LONDON_PHOTO_DIR = lambda train: f'../data/images/london/{\"train\" if train else \"test\"}'\n",
    "SJOERD_LONDON_PHOTO_DIR = lambda train: f'../data/images/{\"train_img\" if train else \"test_img\"}/'\n",
    "GCLOUD_LONDON_PHOTO_DIR = lambda train: f'../data/images/{\"train\" if train else \"test\"}/'\n",
    "\n",
    "LONDON_PHOTO_DIR = SJOERD_LONDON_PHOTO_DIR\n",
    "\n",
    "SESSION = \"douwes_v1_test\"\n",
    "CHECKPOINT_FOLDER = f'../checkpoints/{SESSION}/'\n"
   ]
  },
  {
   "cell_type": "code",
   "execution_count": null,
   "metadata": {},
   "outputs": [],
   "source": [
    "wandb.config.update({\"train_batch_size\": TRAIN_BATCH_SIZE, \"test_batch_size\": TEST_BATCH_SIZE, \"cell_width\": CELL_WIDTH})"
   ]
  },
  {
   "cell_type": "markdown",
   "metadata": {},
   "source": [
    "### ImageNet setup"
   ]
  },
  {
   "cell_type": "code",
   "execution_count": null,
   "metadata": {},
   "outputs": [],
   "source": [
    "!wget https://raw.githubusercontent.com/pytorch/hub/master/imagenet_classes.txt -O imagenet_classes.txt"
   ]
  },
  {
   "cell_type": "code",
   "execution_count": 144,
   "metadata": {},
   "outputs": [],
   "source": [
    "with open(\"imagenet_classes.txt\", \"r\") as f:\n",
    "    categories = [s.strip() for s in f.readlines()]"
   ]
  },
  {
   "cell_type": "markdown",
   "metadata": {},
   "source": [
    "### Places365 setup"
   ]
  },
  {
   "cell_type": "code",
   "execution_count": 6,
   "metadata": {},
   "outputs": [],
   "source": [
    "# load the class label\n",
    "file_name = 'categories_places365.txt'\n",
    "\n",
    "if not os.access(file_name, os.W_OK):\n",
    "    synset_url = 'https://raw.githubusercontent.com/csailvision/places365/master/categories_places365.txt'\n",
    "    os.system('wget ' + synset_url)\n",
    "\n",
    "categories = list()\n",
    "\n",
    "with open(file_name) as class_file:\n",
    "    for line in class_file:\n",
    "        categories.append(line.strip().split(' ')[0][3:])\n",
    "        \n",
    "classes = tuple(categories)"
    "with open(\"imagenet_classes.txt\", \"r\") as f:\n",
    "    categories = [s.strip() for s in f.readlines()]"
   ]
  },
  {
   "cell_type": "markdown",
   "metadata": {
    "id": "m213hzh1ZNev"
   },
   "source": [
    "## Download ResNet50"
   ]
  },
  {
   "cell_type": "markdown",
   "metadata": {},
   "source": [
    "### Original"
   ]
  },
  {
   "cell_type": "code",
   "execution_count": 36,
   "metadata": {},
   "outputs": [
    {
     "name": "stdout",
     "output_type": "stream",
     "text": [
      "done\n"
     ]
    }
   ],
   "source": [
    "resnet50 = models.resnet50(pretrained=True, progress=True)\n",
    "\n",
    "device = torch.device(\"cuda:0\" if torch.cuda.is_available() else \"cpu\")\n",
    "resnet50.to(device)\n",
    "print(\"done\")"
   ]
  },
  {
   "cell_type": "code",
   "execution_count": 8,
   "metadata": {},
   "outputs": [
    {
     "name": "stdout",
     "output_type": "stream",
     "text": [
      "----------------------------------------------------------------\n",
      "        Layer (type)               Output Shape         Param #\n",
      "================================================================\n",
      "            Conv2d-1         [-1, 64, 112, 112]           9,408\n",
      "       BatchNorm2d-2         [-1, 64, 112, 112]             128\n",
      "              ReLU-3         [-1, 64, 112, 112]               0\n",
      "         MaxPool2d-4           [-1, 64, 56, 56]               0\n",
      "            Conv2d-5           [-1, 64, 56, 56]           4,096\n",
      "       BatchNorm2d-6           [-1, 64, 56, 56]             128\n",
      "              ReLU-7           [-1, 64, 56, 56]               0\n",
      "            Conv2d-8           [-1, 64, 56, 56]          36,864\n",
      "       BatchNorm2d-9           [-1, 64, 56, 56]             128\n",
      "             ReLU-10           [-1, 64, 56, 56]               0\n",
      "           Conv2d-11          [-1, 256, 56, 56]          16,384\n",
      "      BatchNorm2d-12          [-1, 256, 56, 56]             512\n",
      "           Conv2d-13          [-1, 256, 56, 56]          16,384\n",
      "      BatchNorm2d-14          [-1, 256, 56, 56]             512\n",
      "             ReLU-15          [-1, 256, 56, 56]               0\n",
      "       Bottleneck-16          [-1, 256, 56, 56]               0\n",
      "           Conv2d-17           [-1, 64, 56, 56]          16,384\n",
      "      BatchNorm2d-18           [-1, 64, 56, 56]             128\n",
      "             ReLU-19           [-1, 64, 56, 56]               0\n",
      "           Conv2d-20           [-1, 64, 56, 56]          36,864\n",
      "      BatchNorm2d-21           [-1, 64, 56, 56]             128\n",
      "             ReLU-22           [-1, 64, 56, 56]               0\n",
      "           Conv2d-23          [-1, 256, 56, 56]          16,384\n",
      "      BatchNorm2d-24          [-1, 256, 56, 56]             512\n",
      "             ReLU-25          [-1, 256, 56, 56]               0\n",
      "       Bottleneck-26          [-1, 256, 56, 56]               0\n",
      "           Conv2d-27           [-1, 64, 56, 56]          16,384\n",
      "      BatchNorm2d-28           [-1, 64, 56, 56]             128\n",
      "             ReLU-29           [-1, 64, 56, 56]               0\n",
      "           Conv2d-30           [-1, 64, 56, 56]          36,864\n",
      "      BatchNorm2d-31           [-1, 64, 56, 56]             128\n",
      "             ReLU-32           [-1, 64, 56, 56]               0\n",
      "           Conv2d-33          [-1, 256, 56, 56]          16,384\n",
      "      BatchNorm2d-34          [-1, 256, 56, 56]             512\n",
      "             ReLU-35          [-1, 256, 56, 56]               0\n",
      "       Bottleneck-36          [-1, 256, 56, 56]               0\n",
      "           Conv2d-37          [-1, 128, 56, 56]          32,768\n",
      "      BatchNorm2d-38          [-1, 128, 56, 56]             256\n",
      "             ReLU-39          [-1, 128, 56, 56]               0\n",
      "           Conv2d-40          [-1, 128, 28, 28]         147,456\n",
      "      BatchNorm2d-41          [-1, 128, 28, 28]             256\n",
      "             ReLU-42          [-1, 128, 28, 28]               0\n",
      "           Conv2d-43          [-1, 512, 28, 28]          65,536\n",
      "      BatchNorm2d-44          [-1, 512, 28, 28]           1,024\n",
      "           Conv2d-45          [-1, 512, 28, 28]         131,072\n",
      "      BatchNorm2d-46          [-1, 512, 28, 28]           1,024\n",
      "             ReLU-47          [-1, 512, 28, 28]               0\n",
      "       Bottleneck-48          [-1, 512, 28, 28]               0\n",
      "           Conv2d-49          [-1, 128, 28, 28]          65,536\n",
      "      BatchNorm2d-50          [-1, 128, 28, 28]             256\n",
      "             ReLU-51          [-1, 128, 28, 28]               0\n",
      "           Conv2d-52          [-1, 128, 28, 28]         147,456\n",
      "      BatchNorm2d-53          [-1, 128, 28, 28]             256\n",
      "             ReLU-54          [-1, 128, 28, 28]               0\n",
      "           Conv2d-55          [-1, 512, 28, 28]          65,536\n",
      "      BatchNorm2d-56          [-1, 512, 28, 28]           1,024\n",
      "             ReLU-57          [-1, 512, 28, 28]               0\n",
      "       Bottleneck-58          [-1, 512, 28, 28]               0\n",
      "           Conv2d-59          [-1, 128, 28, 28]          65,536\n",
      "      BatchNorm2d-60          [-1, 128, 28, 28]             256\n",
      "             ReLU-61          [-1, 128, 28, 28]               0\n",
      "           Conv2d-62          [-1, 128, 28, 28]         147,456\n",
      "      BatchNorm2d-63          [-1, 128, 28, 28]             256\n",
      "             ReLU-64          [-1, 128, 28, 28]               0\n",
      "           Conv2d-65          [-1, 512, 28, 28]          65,536\n",
      "      BatchNorm2d-66          [-1, 512, 28, 28]           1,024\n",
      "             ReLU-67          [-1, 512, 28, 28]               0\n",
      "       Bottleneck-68          [-1, 512, 28, 28]               0\n",
      "           Conv2d-69          [-1, 128, 28, 28]          65,536\n",
      "      BatchNorm2d-70          [-1, 128, 28, 28]             256\n",
      "             ReLU-71          [-1, 128, 28, 28]               0\n",
      "           Conv2d-72          [-1, 128, 28, 28]         147,456\n",
      "      BatchNorm2d-73          [-1, 128, 28, 28]             256\n",
      "             ReLU-74          [-1, 128, 28, 28]               0\n",
      "           Conv2d-75          [-1, 512, 28, 28]          65,536\n",
      "      BatchNorm2d-76          [-1, 512, 28, 28]           1,024\n",
      "             ReLU-77          [-1, 512, 28, 28]               0\n",
      "       Bottleneck-78          [-1, 512, 28, 28]               0\n",
      "           Conv2d-79          [-1, 256, 28, 28]         131,072\n",
      "      BatchNorm2d-80          [-1, 256, 28, 28]             512\n",
      "             ReLU-81          [-1, 256, 28, 28]               0\n",
      "           Conv2d-82          [-1, 256, 14, 14]         589,824\n",
      "      BatchNorm2d-83          [-1, 256, 14, 14]             512\n",
      "             ReLU-84          [-1, 256, 14, 14]               0\n",
      "           Conv2d-85         [-1, 1024, 14, 14]         262,144\n",
      "      BatchNorm2d-86         [-1, 1024, 14, 14]           2,048\n",
      "           Conv2d-87         [-1, 1024, 14, 14]         524,288\n",
      "      BatchNorm2d-88         [-1, 1024, 14, 14]           2,048\n",
      "             ReLU-89         [-1, 1024, 14, 14]               0\n",
      "       Bottleneck-90         [-1, 1024, 14, 14]               0\n",
      "           Conv2d-91          [-1, 256, 14, 14]         262,144\n",
      "      BatchNorm2d-92          [-1, 256, 14, 14]             512\n",
      "             ReLU-93          [-1, 256, 14, 14]               0\n",
      "           Conv2d-94          [-1, 256, 14, 14]         589,824\n",
      "      BatchNorm2d-95          [-1, 256, 14, 14]             512\n",
      "             ReLU-96          [-1, 256, 14, 14]               0\n",
      "           Conv2d-97         [-1, 1024, 14, 14]         262,144\n",
      "      BatchNorm2d-98         [-1, 1024, 14, 14]           2,048\n",
      "             ReLU-99         [-1, 1024, 14, 14]               0\n",
      "      Bottleneck-100         [-1, 1024, 14, 14]               0\n",
      "          Conv2d-101          [-1, 256, 14, 14]         262,144\n",
      "     BatchNorm2d-102          [-1, 256, 14, 14]             512\n",
      "            ReLU-103          [-1, 256, 14, 14]               0\n",
      "          Conv2d-104          [-1, 256, 14, 14]         589,824\n",
      "     BatchNorm2d-105          [-1, 256, 14, 14]             512\n",
      "            ReLU-106          [-1, 256, 14, 14]               0\n",
      "          Conv2d-107         [-1, 1024, 14, 14]         262,144\n",
      "     BatchNorm2d-108         [-1, 1024, 14, 14]           2,048\n",
      "            ReLU-109         [-1, 1024, 14, 14]               0\n",
      "      Bottleneck-110         [-1, 1024, 14, 14]               0\n",
      "          Conv2d-111          [-1, 256, 14, 14]         262,144\n",
      "     BatchNorm2d-112          [-1, 256, 14, 14]             512\n",
      "            ReLU-113          [-1, 256, 14, 14]               0\n",
      "          Conv2d-114          [-1, 256, 14, 14]         589,824\n",
      "     BatchNorm2d-115          [-1, 256, 14, 14]             512\n",
      "            ReLU-116          [-1, 256, 14, 14]               0\n",
      "          Conv2d-117         [-1, 1024, 14, 14]         262,144\n",
      "     BatchNorm2d-118         [-1, 1024, 14, 14]           2,048\n",
      "            ReLU-119         [-1, 1024, 14, 14]               0\n",
      "      Bottleneck-120         [-1, 1024, 14, 14]               0\n",
      "          Conv2d-121          [-1, 256, 14, 14]         262,144\n",
      "     BatchNorm2d-122          [-1, 256, 14, 14]             512\n",
      "            ReLU-123          [-1, 256, 14, 14]               0\n",
      "          Conv2d-124          [-1, 256, 14, 14]         589,824\n",
      "     BatchNorm2d-125          [-1, 256, 14, 14]             512\n",
      "            ReLU-126          [-1, 256, 14, 14]               0\n",
      "          Conv2d-127         [-1, 1024, 14, 14]         262,144\n",
      "     BatchNorm2d-128         [-1, 1024, 14, 14]           2,048\n",
      "            ReLU-129         [-1, 1024, 14, 14]               0\n",
      "      Bottleneck-130         [-1, 1024, 14, 14]               0\n",
      "          Conv2d-131          [-1, 256, 14, 14]         262,144\n",
      "     BatchNorm2d-132          [-1, 256, 14, 14]             512\n",
      "            ReLU-133          [-1, 256, 14, 14]               0\n",
      "          Conv2d-134          [-1, 256, 14, 14]         589,824\n",
      "     BatchNorm2d-135          [-1, 256, 14, 14]             512\n",
      "            ReLU-136          [-1, 256, 14, 14]               0\n",
      "          Conv2d-137         [-1, 1024, 14, 14]         262,144\n",
      "     BatchNorm2d-138         [-1, 1024, 14, 14]           2,048\n",
      "            ReLU-139         [-1, 1024, 14, 14]               0\n",
      "      Bottleneck-140         [-1, 1024, 14, 14]               0\n",
      "          Conv2d-141          [-1, 512, 14, 14]         524,288\n",
      "     BatchNorm2d-142          [-1, 512, 14, 14]           1,024\n",
      "            ReLU-143          [-1, 512, 14, 14]               0\n",
      "          Conv2d-144            [-1, 512, 7, 7]       2,359,296\n",
      "     BatchNorm2d-145            [-1, 512, 7, 7]           1,024\n",
      "            ReLU-146            [-1, 512, 7, 7]               0\n",
      "          Conv2d-147           [-1, 2048, 7, 7]       1,048,576\n",
      "     BatchNorm2d-148           [-1, 2048, 7, 7]           4,096\n",
      "          Conv2d-149           [-1, 2048, 7, 7]       2,097,152\n",
      "     BatchNorm2d-150           [-1, 2048, 7, 7]           4,096\n",
      "            ReLU-151           [-1, 2048, 7, 7]               0\n",
      "      Bottleneck-152           [-1, 2048, 7, 7]               0\n",
      "          Conv2d-153            [-1, 512, 7, 7]       1,048,576\n",
      "     BatchNorm2d-154            [-1, 512, 7, 7]           1,024\n",
      "            ReLU-155            [-1, 512, 7, 7]               0\n",
      "          Conv2d-156            [-1, 512, 7, 7]       2,359,296\n",
      "     BatchNorm2d-157            [-1, 512, 7, 7]           1,024\n",
      "            ReLU-158            [-1, 512, 7, 7]               0\n",
      "          Conv2d-159           [-1, 2048, 7, 7]       1,048,576\n",
      "     BatchNorm2d-160           [-1, 2048, 7, 7]           4,096\n",
      "            ReLU-161           [-1, 2048, 7, 7]               0\n",
      "      Bottleneck-162           [-1, 2048, 7, 7]               0\n",
      "          Conv2d-163            [-1, 512, 7, 7]       1,048,576\n",
      "     BatchNorm2d-164            [-1, 512, 7, 7]           1,024\n",
      "            ReLU-165            [-1, 512, 7, 7]               0\n",
      "          Conv2d-166            [-1, 512, 7, 7]       2,359,296\n",
      "     BatchNorm2d-167            [-1, 512, 7, 7]           1,024\n",
      "            ReLU-168            [-1, 512, 7, 7]               0\n",
      "          Conv2d-169           [-1, 2048, 7, 7]       1,048,576\n",
      "     BatchNorm2d-170           [-1, 2048, 7, 7]           4,096\n",
      "            ReLU-171           [-1, 2048, 7, 7]               0\n",
      "      Bottleneck-172           [-1, 2048, 7, 7]               0\n",
      "AdaptiveAvgPool2d-173           [-1, 2048, 1, 1]               0\n",
      "          Linear-174                 [-1, 1000]       2,049,000\n",
      "================================================================\n",
      "Total params: 25,557,032\n",
      "Trainable params: 25,557,032\n",
      "Non-trainable params: 0\n",
      "----------------------------------------------------------------\n",
      "Input size (MB): 0.57\n",
      "Forward/backward pass size (MB): 286.56\n",
      "Params size (MB): 97.49\n",
      "Estimated Total Size (MB): 384.62\n",
      "----------------------------------------------------------------\n"
     ]
    }
   ],
   "source": [
    "summary(resnet50, (3, 224, 224))"
   ]
  },
  {
   "cell_type": "markdown",
   "metadata": {
    "id": "tO5rLpFmSBwy"
   },
   "source": [
    "## Load the data"
   ]
  },
  {
   "cell_type": "markdown",
   "metadata": {},
   "source": [
    "### Create the data loaders"
   ]
  },
  {
   "cell_type": "code",
   "execution_count": 9,
   "metadata": {
    "id": "pedmjKigSBOy"
   },
   "outputs": [],
   "source": [
    "data_transforms = transforms.Compose([\n",
    "    transforms.ToTensor(),\n",
    "    transforms.Resize(256),\n",
    "    transforms.CenterCrop((224, 224)),\n",
    "    transforms.Normalize(IMAGENET_MEAN, IMAGENET_STD),\n",
    "])\n",
    "\n",
    "# Add additional random transformation to augment the training dataset\n",
    "data_transforms_train = transforms.Compose([\n",
    "    transforms.ToTensor(),\n",
    "    transforms.Resize(256),\n",
    "    transforms.CenterCrop((224, 224)),\n",
    "    transforms.Normalize(IMAGENET_MEAN, IMAGENET_STD)\n",
    "])\n",
    "\n",
    "data_transforms_test = transforms.Compose([\n",
    "    transforms.ToTensor(),\n",
    "    transforms.Resize(256),\n",
    "    transforms.CenterCrop((224, 224)),\n",
    "    transforms.Normalize(IMAGENET_MEAN, IMAGENET_STD),\n",
    "    # How about ipv centercrop, wat bij streetview foto's mschn biased kan zijn, een random crop of fivecrop. Dit zorgde voor errors maar kan later bekeken worden\n",
    "    # transforms.CenterCrop((224, 224)),\n",
    "    # transforms.RandomCrop(size = (224,224)),\n",
    "    # transforms.ColorJitter(brightness = 0.2, contrast = 0, saturation = 0.05, hue = 0.1),\n",
    "    # transforms.RandomPerspective(distortion_scale = .4, p = .4),\n",
    "])\n",
    "\n",
    "grid_partitioning = Partitioning(CITY_BOUNDS_FILE, CELL_WIDTH)\n",
    "\n",
    "train_data_set = StreetViewImagesDataset(LONDON_PHOTO_DIR(True), grid_partitioning, data_transforms)\n",
    "train_loader = DataLoader(train_data_set, batch_size=TRAIN_BATCH_SIZE, shuffle=True)\n",
    "test_data_set = StreetViewImagesDataset(LONDON_PHOTO_DIR(False), grid_partitioning, data_transforms)\n",
    "test_loader = DataLoader(test_data_set, batch_size=TEST_BATCH_SIZE, shuffle=True)\n",
    "\n",
    "\n",
    "dataloaders = {\n",
    "    \"train\": train_loader,\n",
    "    \"val\": test_loader\n",
    "}\n",
    "\n",
    "\n",
    "dataset_sizes = {\n",
    "    'train':len(train_data_set),\n",
    "    'val':len(test_data_set),\n",
    "}\n",
    "\n",
    "print(dataset_sizes)"
   ]
  },
  {
   "cell_type": "code",
   "execution_count": 149,
   "metadata": {},
   "outputs": [
    {
     "data": {
      "image/png": "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",
      "text/plain": [
       "<Figure size 432x288 with 1 Axes>"
      ]
     },
     "metadata": {
      "needs_background": "light"
     },
     "output_type": "display_data"
    }
   ],
   "source": [
    "grid_partitioning.plot()"
   ]
  },
  {
   "cell_type": "markdown",
   "metadata": {},
   "source": [
    "### Preview some images"
   ]
  },
  {
   "cell_type": "code",
   "execution_count": 10,
   "metadata": {
    "colab": {
     "base_uri": "https://localhost:8080/",
     "height": 180
    },
    "id": "JEFrtJbYakKJ",
    "outputId": "6f452dce-394b-4617-9ab1-20636d6db3db"
   },
   "outputs": [
    {
     "name": "stdout",
     "output_type": "stream",
     "text": [
      "torch.Size([3, 224, 224])\n",
      "torch.Size([3, 224, 224])\n",
      "torch.Size([3, 224, 224])\n",
      "torch.Size([3, 224, 224])\n",
      "torch.Size([3, 224, 224])\n"
     ]
    },
    {
     "data": {
      "text/plain": "<Figure size 1332x756 with 5 Axes>",
      "image/png": "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\n"
     },
     "metadata": {
      "needs_background": "light"
     },
     "output_type": "display_data"
    }
   ],
   "source": [
    "examples = enumerate(test_loader)\n",
    "batch_idx, (eval_images, eval_coordinates) = next(examples)\n",
    "eval_images = eval_images.to(device)\n",
    "eval_coordinates = eval_coordinates.to(device)\n",
    "\n",
    "plot_images(eval_images[:SAMPLES_TO_SHOW].cpu(), IMAGENET_MEAN.cpu(), IMAGENET_STD.cpu())"
   ]
  },
  {
   "cell_type": "markdown",
   "metadata": {},
   "source": [
    "### Preview some output vectors"
   ]
  },
  {
   "cell_type": "code",
   "execution_count": 151,
   "metadata": {
    "collapsed": false,
    "pycharm": {
     "name": "#%%\n"
    }
   },
   "outputs": [
    {
     "name": "stdout",
     "output_type": "stream",
     "text": [
      "tensor([0., 0., 1., 0., 0., 0., 0., 0., 0., 0., 0., 0., 0., 0., 0., 0.])\n",
      "tensor([0., 0., 0., 0., 0., 0., 0., 0., 0., 1., 0., 0., 0., 0., 0., 0.])\n",
      "tensor([0., 0., 0., 0., 0., 0., 0., 1., 0., 0., 0., 0., 0., 0., 0., 0.])\n",
      "tensor([0., 0., 0., 0., 0., 0., 0., 1., 0., 0., 0., 0., 0., 0., 0., 0.])\n",
      "tensor([0., 0., 0., 0., 0., 0., 0., 1., 0., 0., 0., 0., 0., 0., 0., 0.])\n"
     ]
    }
   ],
   "source": [
    "for i in range(SAMPLES_TO_SHOW):\n",
    "    print(eval_coordinates[i, :])"
   ]
  },
  {
   "cell_type": "markdown",
   "metadata": {},
   "source": [
    "## Evaluate the model\n",
    "...with the current/original backbone"
   ]
  },
  {
   "cell_type": "code",
   "execution_count": 11,
   "metadata": {},
   "outputs": [],
   "source": [
    "resnet50.eval()\n",
    "\n",
    "check_images = eval_images[:SAMPLES_TO_SHOW].to(device)\n",
    "\n",
    "with torch.no_grad():\n",
    "    output = torch.nn.functional.softmax(resnet50(eval_images[:SAMPLES_TO_SHOW]), dim=1)"
   ]
  },
  {
   "cell_type": "code",
   "execution_count": null,
   "metadata": {},
   "outputs": [],
   "source": [
    "for i in output:\n",
    "    top5_prob, top5_catid = torch.topk(i, 5)\n",
    "\n",
    "    for i in range(top5_prob.size(0)):\n",
    "        print(categories[top5_catid[i]], top5_prob[i].item())\n",
    "\n",
    "    print(\"\")"
   ]
  },
  {
   "cell_type": "markdown",
   "source": [
    "## Train on the grid output\n"
   ],
   "metadata": {
    "collapsed": false,
    "pycharm": {
     "name": "#%% md\n"
    }
   },
   "source": [
    "##  Change network backbone to grid cells"
   ]
  },
  {
   "cell_type": "code",
   "execution_count": 152,
   "metadata": {},
   "outputs": [],
   "source": [
    "lr = 0.001\n",
    "momentum = 0.9\n",
    "gamma = 0.1\n",
    "lr_decay_step = 7\n",
    "num_epochs = 50\n",
    "\n",
    "wandb.config.update({\"lr\": lr, \"momentum\": momentum, \"gamma\": gamma, \"lr_decay_step\": lr_decay_step, \"epochs\": num_epochs})"
   ]
  },
  {
   "cell_type": "code",
   "execution_count": 153,
   "metadata": {
    "id": "qZPyWDK_RYj_"
   },
   "outputs": [],
   "source": [
    "from torch.optim import lr_scheduler\n",
    "from torch import optim\n",
    "\n",
    "number_of_grid_elements = len(grid_partitioning.cells)\n",
    "\n",
    "for param in resnet50.parameters():\n",
    "    param.requires_grad = False\n",
    "\n",
    "resnet50.fc = nn.Linear(resnet50.fc.in_features, number_of_grid_elements).to(device)\n",
    "resnet50.to(device)\n",
    "\n",
    "criterion = nn.CrossEntropyLoss()\n",
    "\n",
    "optimizer_ft = optim.SGD(resnet50.fc.parameters(), lr=lr, momentum=momentum)\n",
    "\n",
    "# Decay LR by a factor of 0.1 every 7 epochs\n",
    "exp_lr_scheduler = lr_scheduler.StepLR(optimizer_ft, step_size=lr_decay_step, gamma=gamma)"
   ]
  },
  {
   "cell_type": "code",
   "execution_count": null,
   "metadata": {},
   "outputs": [],
   "source": [
    "wandb.config.update({\"number_of_grid_elements\": number_of_grid_elements})"
   ]
  },
  {
   "cell_type": "code",
   "execution_count": 154,
   "metadata": {
    "collapsed": false,
    "pycharm": {
     "name": "#%%\n"
    }
   },
   "outputs": [
    {
     "name": "stdout",
     "output_type": "stream",
     "text": [
      "----------------------------------------------------------------\n",
      "        Layer (type)               Output Shape         Param #\n",
      "================================================================\n",
      "            Conv2d-1         [-1, 64, 112, 112]           9,408\n",
      "       BatchNorm2d-2         [-1, 64, 112, 112]             128\n",
      "              ReLU-3         [-1, 64, 112, 112]               0\n",
      "         MaxPool2d-4           [-1, 64, 56, 56]               0\n",
      "            Conv2d-5           [-1, 64, 56, 56]           4,096\n",
      "       BatchNorm2d-6           [-1, 64, 56, 56]             128\n",
      "              ReLU-7           [-1, 64, 56, 56]               0\n",
      "            Conv2d-8           [-1, 64, 56, 56]          36,864\n",
      "       BatchNorm2d-9           [-1, 64, 56, 56]             128\n",
      "             ReLU-10           [-1, 64, 56, 56]               0\n",
      "           Conv2d-11          [-1, 256, 56, 56]          16,384\n",
      "      BatchNorm2d-12          [-1, 256, 56, 56]             512\n",
      "           Conv2d-13          [-1, 256, 56, 56]          16,384\n",
      "      BatchNorm2d-14          [-1, 256, 56, 56]             512\n",
      "             ReLU-15          [-1, 256, 56, 56]               0\n",
      "       Bottleneck-16          [-1, 256, 56, 56]               0\n",
      "           Conv2d-17           [-1, 64, 56, 56]          16,384\n",
      "      BatchNorm2d-18           [-1, 64, 56, 56]             128\n",
      "             ReLU-19           [-1, 64, 56, 56]               0\n",
      "           Conv2d-20           [-1, 64, 56, 56]          36,864\n",
      "      BatchNorm2d-21           [-1, 64, 56, 56]             128\n",
      "             ReLU-22           [-1, 64, 56, 56]               0\n",
      "           Conv2d-23          [-1, 256, 56, 56]          16,384\n",
      "      BatchNorm2d-24          [-1, 256, 56, 56]             512\n",
      "             ReLU-25          [-1, 256, 56, 56]               0\n",
      "       Bottleneck-26          [-1, 256, 56, 56]               0\n",
      "           Conv2d-27           [-1, 64, 56, 56]          16,384\n",
      "      BatchNorm2d-28           [-1, 64, 56, 56]             128\n",
      "             ReLU-29           [-1, 64, 56, 56]               0\n",
      "           Conv2d-30           [-1, 64, 56, 56]          36,864\n",
      "      BatchNorm2d-31           [-1, 64, 56, 56]             128\n",
      "             ReLU-32           [-1, 64, 56, 56]               0\n",
      "           Conv2d-33          [-1, 256, 56, 56]          16,384\n",
      "      BatchNorm2d-34          [-1, 256, 56, 56]             512\n",
      "             ReLU-35          [-1, 256, 56, 56]               0\n",
      "       Bottleneck-36          [-1, 256, 56, 56]               0\n",
      "           Conv2d-37          [-1, 128, 56, 56]          32,768\n",
      "      BatchNorm2d-38          [-1, 128, 56, 56]             256\n",
      "             ReLU-39          [-1, 128, 56, 56]               0\n",
      "           Conv2d-40          [-1, 128, 28, 28]         147,456\n",
      "      BatchNorm2d-41          [-1, 128, 28, 28]             256\n",
      "             ReLU-42          [-1, 128, 28, 28]               0\n",
      "           Conv2d-43          [-1, 512, 28, 28]          65,536\n",
      "      BatchNorm2d-44          [-1, 512, 28, 28]           1,024\n",
      "           Conv2d-45          [-1, 512, 28, 28]         131,072\n",
      "      BatchNorm2d-46          [-1, 512, 28, 28]           1,024\n",
      "             ReLU-47          [-1, 512, 28, 28]               0\n",
      "       Bottleneck-48          [-1, 512, 28, 28]               0\n",
      "           Conv2d-49          [-1, 128, 28, 28]          65,536\n",
      "      BatchNorm2d-50          [-1, 128, 28, 28]             256\n",
      "             ReLU-51          [-1, 128, 28, 28]               0\n",
      "           Conv2d-52          [-1, 128, 28, 28]         147,456\n",
      "      BatchNorm2d-53          [-1, 128, 28, 28]             256\n",
      "             ReLU-54          [-1, 128, 28, 28]               0\n",
      "           Conv2d-55          [-1, 512, 28, 28]          65,536\n",
      "      BatchNorm2d-56          [-1, 512, 28, 28]           1,024\n",
      "             ReLU-57          [-1, 512, 28, 28]               0\n",
      "       Bottleneck-58          [-1, 512, 28, 28]               0\n",
      "           Conv2d-59          [-1, 128, 28, 28]          65,536\n",
      "      BatchNorm2d-60          [-1, 128, 28, 28]             256\n",
      "             ReLU-61          [-1, 128, 28, 28]               0\n",
      "           Conv2d-62          [-1, 128, 28, 28]         147,456\n",
      "      BatchNorm2d-63          [-1, 128, 28, 28]             256\n",
      "             ReLU-64          [-1, 128, 28, 28]               0\n",
      "           Conv2d-65          [-1, 512, 28, 28]          65,536\n",
      "      BatchNorm2d-66          [-1, 512, 28, 28]           1,024\n",
      "             ReLU-67          [-1, 512, 28, 28]               0\n",
      "       Bottleneck-68          [-1, 512, 28, 28]               0\n",
      "           Conv2d-69          [-1, 128, 28, 28]          65,536\n",
      "      BatchNorm2d-70          [-1, 128, 28, 28]             256\n",
      "             ReLU-71          [-1, 128, 28, 28]               0\n",
      "           Conv2d-72          [-1, 128, 28, 28]         147,456\n",
      "      BatchNorm2d-73          [-1, 128, 28, 28]             256\n",
      "             ReLU-74          [-1, 128, 28, 28]               0\n",
      "           Conv2d-75          [-1, 512, 28, 28]          65,536\n",
      "      BatchNorm2d-76          [-1, 512, 28, 28]           1,024\n",
      "             ReLU-77          [-1, 512, 28, 28]               0\n",
      "       Bottleneck-78          [-1, 512, 28, 28]               0\n",
      "           Conv2d-79          [-1, 256, 28, 28]         131,072\n",
      "      BatchNorm2d-80          [-1, 256, 28, 28]             512\n",
      "             ReLU-81          [-1, 256, 28, 28]               0\n",
      "           Conv2d-82          [-1, 256, 14, 14]         589,824\n",
      "      BatchNorm2d-83          [-1, 256, 14, 14]             512\n",
      "             ReLU-84          [-1, 256, 14, 14]               0\n",
      "           Conv2d-85         [-1, 1024, 14, 14]         262,144\n",
      "      BatchNorm2d-86         [-1, 1024, 14, 14]           2,048\n",
      "           Conv2d-87         [-1, 1024, 14, 14]         524,288\n",
      "      BatchNorm2d-88         [-1, 1024, 14, 14]           2,048\n",
      "             ReLU-89         [-1, 1024, 14, 14]               0\n",
      "       Bottleneck-90         [-1, 1024, 14, 14]               0\n",
      "           Conv2d-91          [-1, 256, 14, 14]         262,144\n",
      "      BatchNorm2d-92          [-1, 256, 14, 14]             512\n",
      "             ReLU-93          [-1, 256, 14, 14]               0\n",
      "           Conv2d-94          [-1, 256, 14, 14]         589,824\n",
      "      BatchNorm2d-95          [-1, 256, 14, 14]             512\n",
      "             ReLU-96          [-1, 256, 14, 14]               0\n",
      "           Conv2d-97         [-1, 1024, 14, 14]         262,144\n",
      "      BatchNorm2d-98         [-1, 1024, 14, 14]           2,048\n",
      "             ReLU-99         [-1, 1024, 14, 14]               0\n",
      "      Bottleneck-100         [-1, 1024, 14, 14]               0\n",
      "          Conv2d-101          [-1, 256, 14, 14]         262,144\n",
      "     BatchNorm2d-102          [-1, 256, 14, 14]             512\n",
      "            ReLU-103          [-1, 256, 14, 14]               0\n",
      "          Conv2d-104          [-1, 256, 14, 14]         589,824\n",
      "     BatchNorm2d-105          [-1, 256, 14, 14]             512\n",
      "            ReLU-106          [-1, 256, 14, 14]               0\n",
      "          Conv2d-107         [-1, 1024, 14, 14]         262,144\n",
      "     BatchNorm2d-108         [-1, 1024, 14, 14]           2,048\n",
      "            ReLU-109         [-1, 1024, 14, 14]               0\n",
      "      Bottleneck-110         [-1, 1024, 14, 14]               0\n",
      "          Conv2d-111          [-1, 256, 14, 14]         262,144\n",
      "     BatchNorm2d-112          [-1, 256, 14, 14]             512\n",
      "            ReLU-113          [-1, 256, 14, 14]               0\n",
      "          Conv2d-114          [-1, 256, 14, 14]         589,824\n",
      "     BatchNorm2d-115          [-1, 256, 14, 14]             512\n",
      "            ReLU-116          [-1, 256, 14, 14]               0\n",
      "          Conv2d-117         [-1, 1024, 14, 14]         262,144\n",
      "     BatchNorm2d-118         [-1, 1024, 14, 14]           2,048\n",
      "            ReLU-119         [-1, 1024, 14, 14]               0\n",
      "      Bottleneck-120         [-1, 1024, 14, 14]               0\n",
      "          Conv2d-121          [-1, 256, 14, 14]         262,144\n",
      "     BatchNorm2d-122          [-1, 256, 14, 14]             512\n",
      "            ReLU-123          [-1, 256, 14, 14]               0\n",
      "          Conv2d-124          [-1, 256, 14, 14]         589,824\n",
      "     BatchNorm2d-125          [-1, 256, 14, 14]             512\n",
      "            ReLU-126          [-1, 256, 14, 14]               0\n",
      "          Conv2d-127         [-1, 1024, 14, 14]         262,144\n",
      "     BatchNorm2d-128         [-1, 1024, 14, 14]           2,048\n",
      "            ReLU-129         [-1, 1024, 14, 14]               0\n",
      "      Bottleneck-130         [-1, 1024, 14, 14]               0\n",
      "          Conv2d-131          [-1, 256, 14, 14]         262,144\n",
      "     BatchNorm2d-132          [-1, 256, 14, 14]             512\n",
      "            ReLU-133          [-1, 256, 14, 14]               0\n",
      "          Conv2d-134          [-1, 256, 14, 14]         589,824\n",
      "     BatchNorm2d-135          [-1, 256, 14, 14]             512\n",
      "            ReLU-136          [-1, 256, 14, 14]               0\n",
      "          Conv2d-137         [-1, 1024, 14, 14]         262,144\n",
      "     BatchNorm2d-138         [-1, 1024, 14, 14]           2,048\n",
      "            ReLU-139         [-1, 1024, 14, 14]               0\n",
      "      Bottleneck-140         [-1, 1024, 14, 14]               0\n",
      "          Conv2d-141          [-1, 512, 14, 14]         524,288\n",
      "     BatchNorm2d-142          [-1, 512, 14, 14]           1,024\n",
      "            ReLU-143          [-1, 512, 14, 14]               0\n",
      "          Conv2d-144            [-1, 512, 7, 7]       2,359,296\n",
      "     BatchNorm2d-145            [-1, 512, 7, 7]           1,024\n",
      "            ReLU-146            [-1, 512, 7, 7]               0\n",
      "          Conv2d-147           [-1, 2048, 7, 7]       1,048,576\n",
      "     BatchNorm2d-148           [-1, 2048, 7, 7]           4,096\n",
      "          Conv2d-149           [-1, 2048, 7, 7]       2,097,152\n",
      "     BatchNorm2d-150           [-1, 2048, 7, 7]           4,096\n",
      "            ReLU-151           [-1, 2048, 7, 7]               0\n",
      "      Bottleneck-152           [-1, 2048, 7, 7]               0\n",
      "          Conv2d-153            [-1, 512, 7, 7]       1,048,576\n",
      "     BatchNorm2d-154            [-1, 512, 7, 7]           1,024\n",
      "            ReLU-155            [-1, 512, 7, 7]               0\n",
      "          Conv2d-156            [-1, 512, 7, 7]       2,359,296\n",
      "     BatchNorm2d-157            [-1, 512, 7, 7]           1,024\n",
      "            ReLU-158            [-1, 512, 7, 7]               0\n",
      "          Conv2d-159           [-1, 2048, 7, 7]       1,048,576\n",
      "     BatchNorm2d-160           [-1, 2048, 7, 7]           4,096\n",
      "            ReLU-161           [-1, 2048, 7, 7]               0\n",
      "      Bottleneck-162           [-1, 2048, 7, 7]               0\n",
      "          Conv2d-163            [-1, 512, 7, 7]       1,048,576\n",
      "     BatchNorm2d-164            [-1, 512, 7, 7]           1,024\n",
      "            ReLU-165            [-1, 512, 7, 7]               0\n",
      "          Conv2d-166            [-1, 512, 7, 7]       2,359,296\n",
      "     BatchNorm2d-167            [-1, 512, 7, 7]           1,024\n",
      "            ReLU-168            [-1, 512, 7, 7]               0\n",
      "          Conv2d-169           [-1, 2048, 7, 7]       1,048,576\n",
      "     BatchNorm2d-170           [-1, 2048, 7, 7]           4,096\n",
      "            ReLU-171           [-1, 2048, 7, 7]               0\n",
      "      Bottleneck-172           [-1, 2048, 7, 7]               0\n",
      "AdaptiveAvgPool2d-173           [-1, 2048, 1, 1]               0\n",
      "          Linear-174                   [-1, 16]          32,784\n",
      "================================================================\n",
      "Total params: 23,540,816\n",
      "Trainable params: 32,784\n",
      "Non-trainable params: 23,508,032\n",
      "----------------------------------------------------------------\n",
      "Input size (MB): 0.57\n",
      "Forward/backward pass size (MB): 286.55\n",
      "Params size (MB): 89.80\n",
      "Estimated Total Size (MB): 376.93\n",
      "----------------------------------------------------------------\n"
     ]
    }
   ],
   "source": [
    "summary(resnet50, (3, 224, 224))"
   ]
  },
  {
   "cell_type": "markdown",
   "metadata": {},
   "source": [
    "## Set up training pipeline"
   ]
  },
  {
   "cell_type": "code",
   "execution_count": 155,
   "metadata": {
    "collapsed": false,
    "pycharm": {
     "name": "#%%\n"
    }
   }
  },
  {
   "cell_type": "code",
   "execution_count": 40,
   "outputs": [
    {
     "name": "stdout",
     "output_type": "stream",
     "text": [
      "{'train': 10038, 'val': 2000}\n"
     ]
    }
   ],
   "source": [
    "\n",
    "import copy\n",
    "from datetime import time\n",
    "\n",
    "dataloaders = {\n",
    "    \"train\": train_loader,\n",
    "    \"val\": test_loader\n",
    "}\n",
    "\n",
    "\n",
    "dataset_sizes = {\n",
    "    'train':len(train_data_set),\n",
    "    'val':len(test_data_set),\n",
    "}\n",
    "\n",
    "print(dataset_sizes)"
   ],
   "metadata": {
    "collapsed": false,
    "pycharm": {
     "name": "#%%\n"
    }
   }
  },
  {
   "cell_type": "code",
   "execution_count": 41,
   "outputs": [],
   "source": [
    "import os\n",
    "\n",
    "if not os.path.isdir(CHECKPOINT_FOLDER):\n",
    "    os.makedirs(CHECKPOINT_FOLDER)\n",
    "\n",
    "torch.save(resnet50.state_dict(), CHECKPOINT_FOLDER + \"untrained.ckpt\")"
   ]
  },
  {
   "cell_type": "code",
   "execution_count": null,
   "metadata": {
    "collapsed": false,
    "pycharm": {
     "name": "#%%\n"
    }
   }
  },
  {
   "cell_type": "code",
   "execution_count": 68,
   "outputs": [],
   "source": [
    "import copy\n",
    "import time\n",
    "\n",
    "\n",
    "def train_model(model, criterion, optimizer, scheduler, num_epochs=25):\n",
    "    \"\"\"\n",
    "    Trains a model, based on https://pytorch.org/tutorials/beginner/transfer_learning_tutorial.html\n",
    "\n",
    "    :param model: the model to train\n",
    "    :param criterion: the criterion to use\n",
    "    :param optimizer: the optimizer to use\n",
    "    :param scheduler: torch.optim.lr_scheduler\n",
    "    :param num_epochs:\n",
    "    :return: a trained model\n",
    "    \"\"\"\n",
    "\n",
    "    since = time.time()\n",
    "\n",
    "    best_model = copy.deepcopy(model.state_dict())\n",
    "    best_acc = 0.0\n",
    "\n",
    "    distance_error_per_epoch = []\n",
    "\n",
    "    for epoch in range(num_epochs):\n",
    "        print(f'Epoch {epoch}/{num_epochs - 1}')\n",
    "        print('-' * 10)\n",
    "\n",
    "        train_acc = 0\n",
    "        test_acc = 0\n",
    "\n",
    "        distance_error = {}\n",
    "        distance_error_count = {}\n",
    "\n",
    "        # Each epoch has a training and validation phase\n",
    "        for phase in ['train', 'val']:\n",
    "            if phase == 'train':\n",
    "                model.train()  # Set model to training mode\n",
    "            else:\n",
    "                model.eval()   # Set model to evaluate mode\n",
    "\n",
    "            running_loss = 0.0\n",
    "            running_corrects = 0\n",
    "\n",
    "            # Iterate over data.\n",
    "            for inputs, labels in data_loaders[phase]:\n",
    "                inputs = inputs.to(device)\n",
    "                labels = labels.to(device)\n",
    "\n",
    "                # Zero the parameter gradients\n",
    "                optimizer.zero_grad()\n",
    "\n",
    "                # Forward: track history if only in train\n",
    "                with torch.set_grad_enabled(phase == 'train'):\n",
    "                    outputs = model(inputs)\n",
    "                    _, preds = torch.max(outputs, 1)\n",
    "\n",
    "                    loss = criterion(outputs, labels)\n",
    "\n",
    "                    # Add distance error metric\n",
    "                    _, actual_label_index = torch.max(labels, 1)\n",
    "                    for index, label in enumerate(actual_label_index[preds != actual_label_index].tolist()):\n",
    "                        distance_error.setdefault(label, 0)\n",
    "                        distance_error[label] += (grid_partitioning.cells[label].centroid).distance(grid_partitioning.cells[preds[index]].centroid)\n",
    "\n",
    "                        distance_error_count.setdefault(label, 0)\n",
    "                        distance_error_count[label] += 1\n",
    "\n",
    "                    # backward + optimize only if in training phase\n",
    "                    if phase == 'train':\n",
    "                        loss.backward()\n",
    "                        optimizer.step()\n",
    "\n",
    "                # Statistics\n",
    "                _, actual_label_index = torch.max(labels, 1)\n",
    "                running_loss += loss.item() * inputs.size(0)\n",
    "                running_corrects += torch.sum(preds == actual_label_index)\n",
    "\n",
    "            if phase == 'train':\n",
    "                scheduler.step()\n",
    "\n",
    "            epoch_loss = running_loss / data_set_sizes[phase]\n",
    "            epoch_acc = running_corrects.double() / data_set_sizes[phase]\n",
    "\n",
    "            # writer.add_scalar(f\"Loss/{phase}\", epoch_loss, epoch)\n",
    "            wandb.log({f\"Loss/{phase}\": epoch_loss, \"epoch\": epoch})\n",
    "            # writer.add_scalar(f\"Accuracy/{phase}\", epoch_acc, epoch)\n",
    "            wandb.log({f\"Accuracy/{phase}\": epoch_acc, \"epoch\": epoch})\n",
    "\n",
    "            if phase == 'train':\n",
    "                train_acc = epoch_acc\n",
    "            else:\n",
    "                test_acc = epoch_acc\n",
    "\n",
    "            print(f'{phase} loss: {epoch_loss:.4f} | accuracy: {epoch_acc:.4f}')\n",
    "\n",
    "            # Deep copy the model\n",
    "            if phase == 'val' and epoch_acc > best_acc:\n",
    "                best_acc = epoch_acc\n",
    "                best_model = copy.deepcopy(model.state_dict())\n",
    "\n",
    "\n",
    "        # Append avg distance error\n",
    "        for k in distance_error:\n",
    "            distance_error[k] /= distance_error_count[k]\n",
    "        distance_error_per_epoch.append(distance_error)\n",
    "        torch.save(resnet50.state_dict(), CHECKPOINT_FOLDER + f\"epoch_{epoch}.ckpt\")\n",
    "\n",
    "    time_elapsed = time.time() - since\n",
    "    print(f'Training complete in {time_elapsed // 60:.0f}m {time_elapsed % 60:.0f}s')\n",
    "    print(f'Best val Acc: {best_acc:4f}')\n",
    "\n",
    "        torch.save(resnet50.state_dict(),\n",
    "                   CHECKPOINT_FOLDER + f\"epoch_{epoch}.ckpt\")\n",
    "\n",
    "    time_elapsed = time.time() - since\n",
    "\n",
    "    print(\n",
    "        f'Training complete in {time_elapsed // 60:.0f}m {time_elapsed % 60:.0f}s')\n",
    "    print(f'Best val Acc: {best_acc:4f}')\n",
    "\n",
    "    # Load best model weights\n",
    "    model.load_state_dict(best_model)\n",
    "\n",
    "    # writer.flush()\n",
    "\n",
    "    return model\n"
   ]
  },
  {
   "cell_type": "markdown",
   "metadata": {},
   "source": [
    "## Set up Tensorboard"
   ]
  },
  {
   "cell_type": "code",
   "execution_count": null,
   "metadata": {},
   "outputs": [],
   "source": [
    "%tensorboard --logdir runs/"
   ]
  },
  {
   "cell_type": "code",
   "execution_count": null,
   "metadata": {
    "collapsed": false,
    "pycharm": {
     "name": "#%%\n"
    }
   },
   "outputs": [],
   "source": [
    "# Lets train the model\n",
    "trained_model = train_model(resnet50, criterion, optimizer_ft, exp_lr_scheduler, num_epochs=num_epochs)\n"
   ]
  },
  {
   "cell_type": "markdown",
   "metadata": {},
   "source": [
    "## Clean up TensorBoard data"
   ]
  },
  {
   "cell_type": "code",
   "execution_count": 65,
   "outputs": [],
   "source": [
    "from collections import OrderedDict\n",
    "\n",
    "def model_layers(model, input_size, batch_size=-1, device=\"cuda\"):\n",
    "    \"\"\"Returns the layers of the model flattened, based on the summary code\"\"\"\n",
    "\n",
    "    def register_hook(module):\n",
    "\n",
    "        def hook(module, input, output):\n",
    "            class_name = str(module.__class__).split(\".\")[-1].split(\"'\")[0]\n",
    "            module_idx = len(layers)\n",
    "\n",
    "            m_key = \"%s-%i\" % (class_name, module_idx + 1)\n",
    "            layers[m_key] = OrderedDict()\n",
    "            layers[m_key][\"input_shape\"] = list(input[0].size())\n",
    "            layers[m_key][\"input_shape\"][0] = batch_size\n",
    "            if isinstance(output, (list, tuple)):\n",
    "                layers[m_key][\"output_shape\"] = [\n",
    "                    [-1] + list(o.size())[1:] for o in output\n",
    "                ]\n",
    "            else:\n",
    "                layers[m_key][\"output_shape\"] = list(output.size())\n",
    "                layers[m_key][\"output_shape\"][0] = batch_size\n",
    "\n",
    "            params = 0\n",
    "            layers[m_key][\"params\"] = module.parameters()\n",
    "            if hasattr(module, \"weight\") and hasattr(module.weight, \"size\"):\n",
    "                params += torch.prod(torch.LongTensor(list(module.weight.size())))\n",
    "                layers[m_key][\"trainable\"] = module.weight.requires_grad\n",
    "                layers[m_key][\"weights\"] = module.weight\n",
    "            if hasattr(module, \"bias\") and hasattr(module.bias, \"size\"):\n",
    "                params += torch.prod(torch.LongTensor(list(module.bias.size())))\n",
    "            layers[m_key][\"nb_params\"] = params\n",
    "\n",
    "        if (\n",
    "            not isinstance(module, nn.Sequential)\n",
    "            and not isinstance(module, nn.ModuleList)\n",
    "            and not (module == model)\n",
    "        ):\n",
    "            hooks.append(module.register_forward_hook(hook))\n",
    "\n",
    "    device = device.lower()\n",
    "\n",
    "    assert device in [\n",
    "        \"cuda\",\n",
    "        \"cpu\",\n",
    "    ], \"Input device is not valid, please specify 'cuda' or 'cpu'\"\n",
    "\n",
    "    if device == \"cuda\" and torch.cuda.is_available():\n",
    "        dtype = torch.cuda.FloatTensor\n",
    "    else:\n",
    "        dtype = torch.FloatTensor\n",
    "\n",
    "    # multiple inputs to the network\n",
    "    if isinstance(input_size, tuple):\n",
    "        input_size = [input_size]\n",
    "\n",
    "    # batch_size of 2 for batchnorm\n",
    "    x = [torch.rand(2, *in_size).type(dtype) for in_size in input_size]\n",
    "    # print(type(x[0]))\n",
    "\n",
    "    # create properties\n",
    "    layers = OrderedDict()\n",
    "    hooks = []\n",
    "\n",
    "    # register hook\n",
    "    model.apply(register_hook)\n",
    "\n",
    "    # make a forward pass\n",
    "    # print(x.shape)\n",
    "    model(*x)\n",
    "\n",
    "    # remove these hooks\n",
    "    for h in hooks:\n",
    "        h.remove()\n",
    "\n",
    "    return layers\n",
    "\n",
    "\n",
    "# load an old model\n",
    "def load_model(model, PATH, lock_factor, device):\n",
    "    checkpoint = torch.load(PATH)\n",
    "    model.load_state_dict(checkpoint)\n",
    "\n",
    "    layers = model_layers(model, (3, 224, 224))\n",
    "    n = len(layers)\n",
    "    print(n)  # 10 layers\n",
    "    # print(model_layers)\n",
    "\n",
    "    for i, layer in enumerate(layers):\n",
    "        # for layer_param in layer.parameters():\n",
    "        #     layer_param.requires_grad = i > n * lock_factor\n",
    "        for param in layers[layer][\"params\"]:\n",
    "            param.requires_grad = i > n * lock_factor\n",
    "\n",
    "    model.to(device)\n",
    "    summary(model, (3, 224, 224))\n",
    "\n",
    "    return model\n"
   ],
   "metadata": {
    "collapsed": false,
    "pycharm": {
     "name": "#%%\n"
    }
   }
    "!rm -r runs"
   ]
  },
  {
   "cell_type": "markdown",
   "metadata": {},
   "source": [
    "## Load trained model"
   ]
  },
  {
   "cell_type": "code",
   "execution_count": 66,
   "outputs": [
    {
     "name": "stdout",
     "output_type": "stream",
     "text": [
      "----------------------------------------------------------------\n",
      "        Layer (type)               Output Shape         Param #\n",
      "================================================================\n",
      "            Conv2d-1         [-1, 64, 112, 112]           9,408\n",
      "       BatchNorm2d-2         [-1, 64, 112, 112]             128\n",
      "              ReLU-3         [-1, 64, 112, 112]               0\n",
      "         MaxPool2d-4           [-1, 64, 56, 56]               0\n",
      "            Conv2d-5           [-1, 64, 56, 56]           4,096\n",
      "       BatchNorm2d-6           [-1, 64, 56, 56]             128\n",
      "              ReLU-7           [-1, 64, 56, 56]               0\n",
      "            Conv2d-8           [-1, 64, 56, 56]          36,864\n",
      "       BatchNorm2d-9           [-1, 64, 56, 56]             128\n",
      "             ReLU-10           [-1, 64, 56, 56]               0\n",
      "           Conv2d-11          [-1, 256, 56, 56]          16,384\n",
      "      BatchNorm2d-12          [-1, 256, 56, 56]             512\n",
      "           Conv2d-13          [-1, 256, 56, 56]          16,384\n",
      "      BatchNorm2d-14          [-1, 256, 56, 56]             512\n",
      "             ReLU-15          [-1, 256, 56, 56]               0\n",
      "       Bottleneck-16          [-1, 256, 56, 56]               0\n",
      "           Conv2d-17           [-1, 64, 56, 56]          16,384\n",
      "      BatchNorm2d-18           [-1, 64, 56, 56]             128\n",
      "             ReLU-19           [-1, 64, 56, 56]               0\n",
      "           Conv2d-20           [-1, 64, 56, 56]          36,864\n",
      "      BatchNorm2d-21           [-1, 64, 56, 56]             128\n",
      "             ReLU-22           [-1, 64, 56, 56]               0\n",
      "           Conv2d-23          [-1, 256, 56, 56]          16,384\n",
      "      BatchNorm2d-24          [-1, 256, 56, 56]             512\n",
      "             ReLU-25          [-1, 256, 56, 56]               0\n",
      "       Bottleneck-26          [-1, 256, 56, 56]               0\n",
      "           Conv2d-27           [-1, 64, 56, 56]          16,384\n",
      "      BatchNorm2d-28           [-1, 64, 56, 56]             128\n",
      "             ReLU-29           [-1, 64, 56, 56]               0\n",
      "           Conv2d-30           [-1, 64, 56, 56]          36,864\n",
      "      BatchNorm2d-31           [-1, 64, 56, 56]             128\n",
      "             ReLU-32           [-1, 64, 56, 56]               0\n",
      "           Conv2d-33          [-1, 256, 56, 56]          16,384\n",
      "      BatchNorm2d-34          [-1, 256, 56, 56]             512\n",
      "             ReLU-35          [-1, 256, 56, 56]               0\n",
      "       Bottleneck-36          [-1, 256, 56, 56]               0\n",
      "           Conv2d-37          [-1, 128, 56, 56]          32,768\n",
      "      BatchNorm2d-38          [-1, 128, 56, 56]             256\n",
      "             ReLU-39          [-1, 128, 56, 56]               0\n",
      "           Conv2d-40          [-1, 128, 28, 28]         147,456\n",
      "      BatchNorm2d-41          [-1, 128, 28, 28]             256\n",
      "             ReLU-42          [-1, 128, 28, 28]               0\n",
      "           Conv2d-43          [-1, 512, 28, 28]          65,536\n",
      "      BatchNorm2d-44          [-1, 512, 28, 28]           1,024\n",
      "           Conv2d-45          [-1, 512, 28, 28]         131,072\n",
      "      BatchNorm2d-46          [-1, 512, 28, 28]           1,024\n",
      "             ReLU-47          [-1, 512, 28, 28]               0\n",
      "       Bottleneck-48          [-1, 512, 28, 28]               0\n",
      "           Conv2d-49          [-1, 128, 28, 28]          65,536\n",
      "      BatchNorm2d-50          [-1, 128, 28, 28]             256\n",
      "             ReLU-51          [-1, 128, 28, 28]               0\n",
      "           Conv2d-52          [-1, 128, 28, 28]         147,456\n",
      "      BatchNorm2d-53          [-1, 128, 28, 28]             256\n",
      "             ReLU-54          [-1, 128, 28, 28]               0\n",
      "           Conv2d-55          [-1, 512, 28, 28]          65,536\n",
      "      BatchNorm2d-56          [-1, 512, 28, 28]           1,024\n",
      "             ReLU-57          [-1, 512, 28, 28]               0\n",
      "       Bottleneck-58          [-1, 512, 28, 28]               0\n",
      "           Conv2d-59          [-1, 128, 28, 28]          65,536\n",
      "      BatchNorm2d-60          [-1, 128, 28, 28]             256\n",
      "             ReLU-61          [-1, 128, 28, 28]               0\n",
      "           Conv2d-62          [-1, 128, 28, 28]         147,456\n",
      "      BatchNorm2d-63          [-1, 128, 28, 28]             256\n",
      "             ReLU-64          [-1, 128, 28, 28]               0\n",
      "           Conv2d-65          [-1, 512, 28, 28]          65,536\n",
      "      BatchNorm2d-66          [-1, 512, 28, 28]           1,024\n",
      "             ReLU-67          [-1, 512, 28, 28]               0\n",
      "       Bottleneck-68          [-1, 512, 28, 28]               0\n",
      "           Conv2d-69          [-1, 128, 28, 28]          65,536\n",
      "      BatchNorm2d-70          [-1, 128, 28, 28]             256\n",
      "             ReLU-71          [-1, 128, 28, 28]               0\n",
      "           Conv2d-72          [-1, 128, 28, 28]         147,456\n",
      "      BatchNorm2d-73          [-1, 128, 28, 28]             256\n",
      "             ReLU-74          [-1, 128, 28, 28]               0\n",
      "           Conv2d-75          [-1, 512, 28, 28]          65,536\n",
      "      BatchNorm2d-76          [-1, 512, 28, 28]           1,024\n",
      "             ReLU-77          [-1, 512, 28, 28]               0\n",
      "       Bottleneck-78          [-1, 512, 28, 28]               0\n",
      "           Conv2d-79          [-1, 256, 28, 28]         131,072\n",
      "      BatchNorm2d-80          [-1, 256, 28, 28]             512\n",
      "             ReLU-81          [-1, 256, 28, 28]               0\n",
      "           Conv2d-82          [-1, 256, 14, 14]         589,824\n",
      "      BatchNorm2d-83          [-1, 256, 14, 14]             512\n",
      "             ReLU-84          [-1, 256, 14, 14]               0\n",
      "           Conv2d-85         [-1, 1024, 14, 14]         262,144\n",
      "      BatchNorm2d-86         [-1, 1024, 14, 14]           2,048\n",
      "           Conv2d-87         [-1, 1024, 14, 14]         524,288\n",
      "      BatchNorm2d-88         [-1, 1024, 14, 14]           2,048\n",
      "             ReLU-89         [-1, 1024, 14, 14]               0\n",
      "       Bottleneck-90         [-1, 1024, 14, 14]               0\n",
      "           Conv2d-91          [-1, 256, 14, 14]         262,144\n",
      "      BatchNorm2d-92          [-1, 256, 14, 14]             512\n",
      "             ReLU-93          [-1, 256, 14, 14]               0\n",
      "           Conv2d-94          [-1, 256, 14, 14]         589,824\n",
      "      BatchNorm2d-95          [-1, 256, 14, 14]             512\n",
      "             ReLU-96          [-1, 256, 14, 14]               0\n",
      "           Conv2d-97         [-1, 1024, 14, 14]         262,144\n",
      "      BatchNorm2d-98         [-1, 1024, 14, 14]           2,048\n",
      "             ReLU-99         [-1, 1024, 14, 14]               0\n",
      "      Bottleneck-100         [-1, 1024, 14, 14]               0\n",
      "          Conv2d-101          [-1, 256, 14, 14]         262,144\n",
      "     BatchNorm2d-102          [-1, 256, 14, 14]             512\n",
      "            ReLU-103          [-1, 256, 14, 14]               0\n",
      "          Conv2d-104          [-1, 256, 14, 14]         589,824\n",
      "     BatchNorm2d-105          [-1, 256, 14, 14]             512\n",
      "            ReLU-106          [-1, 256, 14, 14]               0\n",
      "          Conv2d-107         [-1, 1024, 14, 14]         262,144\n",
      "     BatchNorm2d-108         [-1, 1024, 14, 14]           2,048\n",
      "            ReLU-109         [-1, 1024, 14, 14]               0\n",
      "      Bottleneck-110         [-1, 1024, 14, 14]               0\n",
      "          Conv2d-111          [-1, 256, 14, 14]         262,144\n",
      "     BatchNorm2d-112          [-1, 256, 14, 14]             512\n",
      "            ReLU-113          [-1, 256, 14, 14]               0\n",
      "          Conv2d-114          [-1, 256, 14, 14]         589,824\n",
      "     BatchNorm2d-115          [-1, 256, 14, 14]             512\n",
      "            ReLU-116          [-1, 256, 14, 14]               0\n",
      "          Conv2d-117         [-1, 1024, 14, 14]         262,144\n",
      "     BatchNorm2d-118         [-1, 1024, 14, 14]           2,048\n",
      "            ReLU-119         [-1, 1024, 14, 14]               0\n",
      "      Bottleneck-120         [-1, 1024, 14, 14]               0\n",
      "          Conv2d-121          [-1, 256, 14, 14]         262,144\n",
      "     BatchNorm2d-122          [-1, 256, 14, 14]             512\n",
      "            ReLU-123          [-1, 256, 14, 14]               0\n",
      "          Conv2d-124          [-1, 256, 14, 14]         589,824\n",
      "     BatchNorm2d-125          [-1, 256, 14, 14]             512\n",
      "            ReLU-126          [-1, 256, 14, 14]               0\n",
      "          Conv2d-127         [-1, 1024, 14, 14]         262,144\n",
      "     BatchNorm2d-128         [-1, 1024, 14, 14]           2,048\n",
      "            ReLU-129         [-1, 1024, 14, 14]               0\n",
      "      Bottleneck-130         [-1, 1024, 14, 14]               0\n",
      "          Conv2d-131          [-1, 256, 14, 14]         262,144\n",
      "     BatchNorm2d-132          [-1, 256, 14, 14]             512\n",
      "            ReLU-133          [-1, 256, 14, 14]               0\n",
      "          Conv2d-134          [-1, 256, 14, 14]         589,824\n",
      "     BatchNorm2d-135          [-1, 256, 14, 14]             512\n",
      "            ReLU-136          [-1, 256, 14, 14]               0\n",
      "          Conv2d-137         [-1, 1024, 14, 14]         262,144\n",
      "     BatchNorm2d-138         [-1, 1024, 14, 14]           2,048\n",
      "            ReLU-139         [-1, 1024, 14, 14]               0\n",
      "      Bottleneck-140         [-1, 1024, 14, 14]               0\n",
      "          Conv2d-141          [-1, 512, 14, 14]         524,288\n",
      "     BatchNorm2d-142          [-1, 512, 14, 14]           1,024\n",
      "            ReLU-143          [-1, 512, 14, 14]               0\n",
      "          Conv2d-144            [-1, 512, 7, 7]       2,359,296\n",
      "     BatchNorm2d-145            [-1, 512, 7, 7]           1,024\n",
      "            ReLU-146            [-1, 512, 7, 7]               0\n",
      "          Conv2d-147           [-1, 2048, 7, 7]       1,048,576\n",
      "     BatchNorm2d-148           [-1, 2048, 7, 7]           4,096\n",
      "          Conv2d-149           [-1, 2048, 7, 7]       2,097,152\n",
      "     BatchNorm2d-150           [-1, 2048, 7, 7]           4,096\n",
      "            ReLU-151           [-1, 2048, 7, 7]               0\n",
      "      Bottleneck-152           [-1, 2048, 7, 7]               0\n",
      "          Conv2d-153            [-1, 512, 7, 7]       1,048,576\n",
      "     BatchNorm2d-154            [-1, 512, 7, 7]           1,024\n",
      "            ReLU-155            [-1, 512, 7, 7]               0\n",
      "          Conv2d-156            [-1, 512, 7, 7]       2,359,296\n",
      "     BatchNorm2d-157            [-1, 512, 7, 7]           1,024\n",
      "            ReLU-158            [-1, 512, 7, 7]               0\n",
      "          Conv2d-159           [-1, 2048, 7, 7]       1,048,576\n",
      "     BatchNorm2d-160           [-1, 2048, 7, 7]           4,096\n",
      "            ReLU-161           [-1, 2048, 7, 7]               0\n",
      "      Bottleneck-162           [-1, 2048, 7, 7]               0\n",
      "          Conv2d-163            [-1, 512, 7, 7]       1,048,576\n",
      "     BatchNorm2d-164            [-1, 512, 7, 7]           1,024\n",
      "            ReLU-165            [-1, 512, 7, 7]               0\n",
      "          Conv2d-166            [-1, 512, 7, 7]       2,359,296\n",
      "     BatchNorm2d-167            [-1, 512, 7, 7]           1,024\n",
      "            ReLU-168            [-1, 512, 7, 7]               0\n",
      "          Conv2d-169           [-1, 2048, 7, 7]       1,048,576\n",
      "     BatchNorm2d-170           [-1, 2048, 7, 7]           4,096\n",
      "            ReLU-171           [-1, 2048, 7, 7]               0\n",
      "      Bottleneck-172           [-1, 2048, 7, 7]               0\n",
      "AdaptiveAvgPool2d-173           [-1, 2048, 1, 1]               0\n",
      "          Linear-174                   [-1, 16]          32,784\n",
      "================================================================\n",
      "Total params: 23,540,816\n",
      "Trainable params: 14,997,520\n",
      "Non-trainable params: 8,543,296\n",
      "----------------------------------------------------------------\n",
      "Input size (MB): 0.57\n",
      "Forward/backward pass size (MB): 286.55\n",
      "Params size (MB): 89.80\n",
      "Estimated Total Size (MB): 376.93\n",
      "----------------------------------------------------------------\n"
     ]
    }
   ],
   "source": [
    "MODEL_TO_LOAD_PATH = BASE_FOLDER + \"/second_test/epoch_24.ckpt\"\n",
    "lock_factor = 0.8\n",
    "\n",
    "resnet50 = load_model(resnet50, MODEL_TO_LOAD_PATH, lock_factor, device)"
   ],
   "metadata": {
    "collapsed": false,
    "pycharm": {
     "name": "#%%\n"
    }
   }
  },
  {
   "cell_type": "code",
   "execution_count": 69,
   "outputs": [
    {
     "name": "stdout",
     "output_type": "stream",
     "text": [
      "Epoch 0/49\n",
      "----------\n",
      "{14: 0.08459007991403293, 11: 0.05656854249492823, 8: 0.06992038844285542, 13: 0.06812559200041543, 6: 0.026666666666666523, 5: 0.06264281004514323, 2: 0.0876067569569484, 3: 0.056568542494923185, 9: 0.0882842712474641, 7: 0.03999999999999999, 1: 0.10523896302656467, 4: 0.09463213313049504, 12: 0.06314337781594208}\n",
      "{14: 0.036628457637741585, 11: 0.05656854249492823, 8: 0.048455414495605226, 13: 0.04709360900890266, 6: 0.029607824258132194, 5: 0.03165938148658585, 2: 0.043517757675774864, 3: 0.09152982445082902, 9: 0.022071067811866026, 7: 0.020000000000000517, 1: 0.05584146631827383, 4: 0.03889990772551924, 12: 0.02853027433012432, 15: 0.08}\n",
      "{14: 0.02662760928830549, 11: 0.07300563079746131, 8: 0.026883855288361916, 13: 0.03766579212375313, 6: 0.011924015281377445, 5: 0.024443982918021072, 2: 0.013328082739848864, 3: 0.04384327481694272, 9: 0.06750532806253313, 7: 0.006250000000000032, 1: 0.03946899180989139, 4: 0.04769731919282582, 12: 0.021454153592504892, 15: 0.08}\n",
      "{14: 0.018599013750109247, 11: 0.036502815398730654, 8: 0.027287063822239093, 13: 0.016315129799941593, 6: 0.0064997433715965735, 5: 0.02352617732174774, 2: 0.018458789051194247, 3: 0.044264933773122926, 9: 0.03361138824327159, 7: 0.020842916738688967, 1: 0.023307336284906097, 4: 0.018755524737160544, 12: 0.0159588780913413, 15: 0.08, 0: 0.056568542494923185}\n"
     ]
    },
    {
     "ename": "KeyboardInterrupt",
     "evalue": "",
     "output_type": "error",
     "traceback": [
      "\u001b[0;31m---------------------------------------------------------------------------\u001b[0m",
      "\u001b[0;31mKeyboardInterrupt\u001b[0m                         Traceback (most recent call last)",
      "\u001b[1;32m/Users/douwe/Projects/CV-GeoGuessr/notebooks/ResNet50.ipynb Cell 55'\u001b[0m in \u001b[0;36m<cell line: 1>\u001b[0;34m()\u001b[0m\n\u001b[0;32m----> <a href='vscode-notebook-cell:/Users/douwe/Projects/CV-GeoGuessr/notebooks/ResNet50.ipynb#ch0000054?line=0'>1</a>\u001b[0m train_model(trained_resnet50, criterion, optimizer_ft, exp_lr_scheduler, num_epochs\u001b[39m=\u001b[39;49mnum_epochs)\n",
      "\u001b[1;32m/Users/douwe/Projects/CV-GeoGuessr/notebooks/ResNet50.ipynb Cell 47'\u001b[0m in \u001b[0;36mtrain_model\u001b[0;34m(model, criterion, optimizer, scheduler, num_epochs)\u001b[0m\n\u001b[1;32m     <a href='vscode-notebook-cell:/Users/douwe/Projects/CV-GeoGuessr/notebooks/ResNet50.ipynb#ch0000046?line=51'>52</a>\u001b[0m \u001b[39m# Forward: track history if only in train\u001b[39;00m\n\u001b[1;32m     <a href='vscode-notebook-cell:/Users/douwe/Projects/CV-GeoGuessr/notebooks/ResNet50.ipynb#ch0000046?line=52'>53</a>\u001b[0m \u001b[39mwith\u001b[39;00m torch\u001b[39m.\u001b[39mset_grad_enabled(phase \u001b[39m==\u001b[39m \u001b[39m'\u001b[39m\u001b[39mtrain\u001b[39m\u001b[39m'\u001b[39m):\n\u001b[0;32m---> <a href='vscode-notebook-cell:/Users/douwe/Projects/CV-GeoGuessr/notebooks/ResNet50.ipynb#ch0000046?line=53'>54</a>\u001b[0m     outputs \u001b[39m=\u001b[39m model(inputs)\n\u001b[1;32m     <a href='vscode-notebook-cell:/Users/douwe/Projects/CV-GeoGuessr/notebooks/ResNet50.ipynb#ch0000046?line=54'>55</a>\u001b[0m     _, preds \u001b[39m=\u001b[39m torch\u001b[39m.\u001b[39mmax(outputs, \u001b[39m1\u001b[39m)\n\u001b[1;32m     <a href='vscode-notebook-cell:/Users/douwe/Projects/CV-GeoGuessr/notebooks/ResNet50.ipynb#ch0000046?line=56'>57</a>\u001b[0m     loss \u001b[39m=\u001b[39m criterion(outputs, labels)\n",
      "File \u001b[0;32m/usr/local/lib/python3.9/site-packages/torch/nn/modules/module.py:1110\u001b[0m, in \u001b[0;36mModule._call_impl\u001b[0;34m(self, *input, **kwargs)\u001b[0m\n\u001b[1;32m   <a href='file:///usr/local/lib/python3.9/site-packages/torch/nn/modules/module.py?line=1105'>1106</a>\u001b[0m \u001b[39m# If we don't have any hooks, we want to skip the rest of the logic in\u001b[39;00m\n\u001b[1;32m   <a href='file:///usr/local/lib/python3.9/site-packages/torch/nn/modules/module.py?line=1106'>1107</a>\u001b[0m \u001b[39m# this function, and just call forward.\u001b[39;00m\n\u001b[1;32m   <a href='file:///usr/local/lib/python3.9/site-packages/torch/nn/modules/module.py?line=1107'>1108</a>\u001b[0m \u001b[39mif\u001b[39;00m \u001b[39mnot\u001b[39;00m (\u001b[39mself\u001b[39m\u001b[39m.\u001b[39m_backward_hooks \u001b[39mor\u001b[39;00m \u001b[39mself\u001b[39m\u001b[39m.\u001b[39m_forward_hooks \u001b[39mor\u001b[39;00m \u001b[39mself\u001b[39m\u001b[39m.\u001b[39m_forward_pre_hooks \u001b[39mor\u001b[39;00m _global_backward_hooks\n\u001b[1;32m   <a href='file:///usr/local/lib/python3.9/site-packages/torch/nn/modules/module.py?line=1108'>1109</a>\u001b[0m         \u001b[39mor\u001b[39;00m _global_forward_hooks \u001b[39mor\u001b[39;00m _global_forward_pre_hooks):\n\u001b[0;32m-> <a href='file:///usr/local/lib/python3.9/site-packages/torch/nn/modules/module.py?line=1109'>1110</a>\u001b[0m     \u001b[39mreturn\u001b[39;00m forward_call(\u001b[39m*\u001b[39;49m\u001b[39minput\u001b[39;49m, \u001b[39m*\u001b[39;49m\u001b[39m*\u001b[39;49mkwargs)\n\u001b[1;32m   <a href='file:///usr/local/lib/python3.9/site-packages/torch/nn/modules/module.py?line=1110'>1111</a>\u001b[0m \u001b[39m# Do not call functions when jit is used\u001b[39;00m\n\u001b[1;32m   <a href='file:///usr/local/lib/python3.9/site-packages/torch/nn/modules/module.py?line=1111'>1112</a>\u001b[0m full_backward_hooks, non_full_backward_hooks \u001b[39m=\u001b[39m [], []\n",
      "File \u001b[0;32m/usr/local/lib/python3.9/site-packages/torchvision/models/resnet.py:283\u001b[0m, in \u001b[0;36mResNet.forward\u001b[0;34m(self, x)\u001b[0m\n\u001b[1;32m    <a href='file:///usr/local/lib/python3.9/site-packages/torchvision/models/resnet.py?line=281'>282</a>\u001b[0m \u001b[39mdef\u001b[39;00m \u001b[39mforward\u001b[39m(\u001b[39mself\u001b[39m, x: Tensor) \u001b[39m-\u001b[39m\u001b[39m>\u001b[39m Tensor:\n\u001b[0;32m--> <a href='file:///usr/local/lib/python3.9/site-packages/torchvision/models/resnet.py?line=282'>283</a>\u001b[0m     \u001b[39mreturn\u001b[39;00m \u001b[39mself\u001b[39;49m\u001b[39m.\u001b[39;49m_forward_impl(x)\n",
      "File \u001b[0;32m/usr/local/lib/python3.9/site-packages/torchvision/models/resnet.py:271\u001b[0m, in \u001b[0;36mResNet._forward_impl\u001b[0;34m(self, x)\u001b[0m\n\u001b[1;32m    <a href='file:///usr/local/lib/python3.9/site-packages/torchvision/models/resnet.py?line=267'>268</a>\u001b[0m x \u001b[39m=\u001b[39m \u001b[39mself\u001b[39m\u001b[39m.\u001b[39mrelu(x)\n\u001b[1;32m    <a href='file:///usr/local/lib/python3.9/site-packages/torchvision/models/resnet.py?line=268'>269</a>\u001b[0m x \u001b[39m=\u001b[39m \u001b[39mself\u001b[39m\u001b[39m.\u001b[39mmaxpool(x)\n\u001b[0;32m--> <a href='file:///usr/local/lib/python3.9/site-packages/torchvision/models/resnet.py?line=270'>271</a>\u001b[0m x \u001b[39m=\u001b[39m \u001b[39mself\u001b[39;49m\u001b[39m.\u001b[39;49mlayer1(x)\n\u001b[1;32m    <a href='file:///usr/local/lib/python3.9/site-packages/torchvision/models/resnet.py?line=271'>272</a>\u001b[0m x \u001b[39m=\u001b[39m \u001b[39mself\u001b[39m\u001b[39m.\u001b[39mlayer2(x)\n\u001b[1;32m    <a href='file:///usr/local/lib/python3.9/site-packages/torchvision/models/resnet.py?line=272'>273</a>\u001b[0m x \u001b[39m=\u001b[39m \u001b[39mself\u001b[39m\u001b[39m.\u001b[39mlayer3(x)\n",
      "File \u001b[0;32m/usr/local/lib/python3.9/site-packages/torch/nn/modules/module.py:1110\u001b[0m, in \u001b[0;36mModule._call_impl\u001b[0;34m(self, *input, **kwargs)\u001b[0m\n\u001b[1;32m   <a href='file:///usr/local/lib/python3.9/site-packages/torch/nn/modules/module.py?line=1105'>1106</a>\u001b[0m \u001b[39m# If we don't have any hooks, we want to skip the rest of the logic in\u001b[39;00m\n\u001b[1;32m   <a href='file:///usr/local/lib/python3.9/site-packages/torch/nn/modules/module.py?line=1106'>1107</a>\u001b[0m \u001b[39m# this function, and just call forward.\u001b[39;00m\n\u001b[1;32m   <a href='file:///usr/local/lib/python3.9/site-packages/torch/nn/modules/module.py?line=1107'>1108</a>\u001b[0m \u001b[39mif\u001b[39;00m \u001b[39mnot\u001b[39;00m (\u001b[39mself\u001b[39m\u001b[39m.\u001b[39m_backward_hooks \u001b[39mor\u001b[39;00m \u001b[39mself\u001b[39m\u001b[39m.\u001b[39m_forward_hooks \u001b[39mor\u001b[39;00m \u001b[39mself\u001b[39m\u001b[39m.\u001b[39m_forward_pre_hooks \u001b[39mor\u001b[39;00m _global_backward_hooks\n\u001b[1;32m   <a href='file:///usr/local/lib/python3.9/site-packages/torch/nn/modules/module.py?line=1108'>1109</a>\u001b[0m         \u001b[39mor\u001b[39;00m _global_forward_hooks \u001b[39mor\u001b[39;00m _global_forward_pre_hooks):\n\u001b[0;32m-> <a href='file:///usr/local/lib/python3.9/site-packages/torch/nn/modules/module.py?line=1109'>1110</a>\u001b[0m     \u001b[39mreturn\u001b[39;00m forward_call(\u001b[39m*\u001b[39;49m\u001b[39minput\u001b[39;49m, \u001b[39m*\u001b[39;49m\u001b[39m*\u001b[39;49mkwargs)\n\u001b[1;32m   <a href='file:///usr/local/lib/python3.9/site-packages/torch/nn/modules/module.py?line=1110'>1111</a>\u001b[0m \u001b[39m# Do not call functions when jit is used\u001b[39;00m\n\u001b[1;32m   <a href='file:///usr/local/lib/python3.9/site-packages/torch/nn/modules/module.py?line=1111'>1112</a>\u001b[0m full_backward_hooks, non_full_backward_hooks \u001b[39m=\u001b[39m [], []\n",
      "File \u001b[0;32m/usr/local/lib/python3.9/site-packages/torch/nn/modules/container.py:141\u001b[0m, in \u001b[0;36mSequential.forward\u001b[0;34m(self, input)\u001b[0m\n\u001b[1;32m    <a href='file:///usr/local/lib/python3.9/site-packages/torch/nn/modules/container.py?line=138'>139</a>\u001b[0m \u001b[39mdef\u001b[39;00m \u001b[39mforward\u001b[39m(\u001b[39mself\u001b[39m, \u001b[39minput\u001b[39m):\n\u001b[1;32m    <a href='file:///usr/local/lib/python3.9/site-packages/torch/nn/modules/container.py?line=139'>140</a>\u001b[0m     \u001b[39mfor\u001b[39;00m module \u001b[39min\u001b[39;00m \u001b[39mself\u001b[39m:\n\u001b[0;32m--> <a href='file:///usr/local/lib/python3.9/site-packages/torch/nn/modules/container.py?line=140'>141</a>\u001b[0m         \u001b[39minput\u001b[39m \u001b[39m=\u001b[39m module(\u001b[39minput\u001b[39;49m)\n\u001b[1;32m    <a href='file:///usr/local/lib/python3.9/site-packages/torch/nn/modules/container.py?line=141'>142</a>\u001b[0m     \u001b[39mreturn\u001b[39;00m \u001b[39minput\u001b[39m\n",
      "File \u001b[0;32m/usr/local/lib/python3.9/site-packages/torch/nn/modules/module.py:1110\u001b[0m, in \u001b[0;36mModule._call_impl\u001b[0;34m(self, *input, **kwargs)\u001b[0m\n\u001b[1;32m   <a href='file:///usr/local/lib/python3.9/site-packages/torch/nn/modules/module.py?line=1105'>1106</a>\u001b[0m \u001b[39m# If we don't have any hooks, we want to skip the rest of the logic in\u001b[39;00m\n\u001b[1;32m   <a href='file:///usr/local/lib/python3.9/site-packages/torch/nn/modules/module.py?line=1106'>1107</a>\u001b[0m \u001b[39m# this function, and just call forward.\u001b[39;00m\n\u001b[1;32m   <a href='file:///usr/local/lib/python3.9/site-packages/torch/nn/modules/module.py?line=1107'>1108</a>\u001b[0m \u001b[39mif\u001b[39;00m \u001b[39mnot\u001b[39;00m (\u001b[39mself\u001b[39m\u001b[39m.\u001b[39m_backward_hooks \u001b[39mor\u001b[39;00m \u001b[39mself\u001b[39m\u001b[39m.\u001b[39m_forward_hooks \u001b[39mor\u001b[39;00m \u001b[39mself\u001b[39m\u001b[39m.\u001b[39m_forward_pre_hooks \u001b[39mor\u001b[39;00m _global_backward_hooks\n\u001b[1;32m   <a href='file:///usr/local/lib/python3.9/site-packages/torch/nn/modules/module.py?line=1108'>1109</a>\u001b[0m         \u001b[39mor\u001b[39;00m _global_forward_hooks \u001b[39mor\u001b[39;00m _global_forward_pre_hooks):\n\u001b[0;32m-> <a href='file:///usr/local/lib/python3.9/site-packages/torch/nn/modules/module.py?line=1109'>1110</a>\u001b[0m     \u001b[39mreturn\u001b[39;00m forward_call(\u001b[39m*\u001b[39;49m\u001b[39minput\u001b[39;49m, \u001b[39m*\u001b[39;49m\u001b[39m*\u001b[39;49mkwargs)\n\u001b[1;32m   <a href='file:///usr/local/lib/python3.9/site-packages/torch/nn/modules/module.py?line=1110'>1111</a>\u001b[0m \u001b[39m# Do not call functions when jit is used\u001b[39;00m\n\u001b[1;32m   <a href='file:///usr/local/lib/python3.9/site-packages/torch/nn/modules/module.py?line=1111'>1112</a>\u001b[0m full_backward_hooks, non_full_backward_hooks \u001b[39m=\u001b[39m [], []\n",
      "File \u001b[0;32m/usr/local/lib/python3.9/site-packages/torchvision/models/resnet.py:152\u001b[0m, in \u001b[0;36mBottleneck.forward\u001b[0;34m(self, x)\u001b[0m\n\u001b[1;32m    <a href='file:///usr/local/lib/python3.9/site-packages/torchvision/models/resnet.py?line=148'>149</a>\u001b[0m out \u001b[39m=\u001b[39m \u001b[39mself\u001b[39m\u001b[39m.\u001b[39mbn2(out)\n\u001b[1;32m    <a href='file:///usr/local/lib/python3.9/site-packages/torchvision/models/resnet.py?line=149'>150</a>\u001b[0m out \u001b[39m=\u001b[39m \u001b[39mself\u001b[39m\u001b[39m.\u001b[39mrelu(out)\n\u001b[0;32m--> <a href='file:///usr/local/lib/python3.9/site-packages/torchvision/models/resnet.py?line=151'>152</a>\u001b[0m out \u001b[39m=\u001b[39m \u001b[39mself\u001b[39;49m\u001b[39m.\u001b[39;49mconv3(out)\n\u001b[1;32m    <a href='file:///usr/local/lib/python3.9/site-packages/torchvision/models/resnet.py?line=152'>153</a>\u001b[0m out \u001b[39m=\u001b[39m \u001b[39mself\u001b[39m\u001b[39m.\u001b[39mbn3(out)\n\u001b[1;32m    <a href='file:///usr/local/lib/python3.9/site-packages/torchvision/models/resnet.py?line=154'>155</a>\u001b[0m \u001b[39mif\u001b[39;00m \u001b[39mself\u001b[39m\u001b[39m.\u001b[39mdownsample \u001b[39mis\u001b[39;00m \u001b[39mnot\u001b[39;00m \u001b[39mNone\u001b[39;00m:\n",
      "File \u001b[0;32m/usr/local/lib/python3.9/site-packages/torch/nn/modules/module.py:1110\u001b[0m, in \u001b[0;36mModule._call_impl\u001b[0;34m(self, *input, **kwargs)\u001b[0m\n\u001b[1;32m   <a href='file:///usr/local/lib/python3.9/site-packages/torch/nn/modules/module.py?line=1105'>1106</a>\u001b[0m \u001b[39m# If we don't have any hooks, we want to skip the rest of the logic in\u001b[39;00m\n\u001b[1;32m   <a href='file:///usr/local/lib/python3.9/site-packages/torch/nn/modules/module.py?line=1106'>1107</a>\u001b[0m \u001b[39m# this function, and just call forward.\u001b[39;00m\n\u001b[1;32m   <a href='file:///usr/local/lib/python3.9/site-packages/torch/nn/modules/module.py?line=1107'>1108</a>\u001b[0m \u001b[39mif\u001b[39;00m \u001b[39mnot\u001b[39;00m (\u001b[39mself\u001b[39m\u001b[39m.\u001b[39m_backward_hooks \u001b[39mor\u001b[39;00m \u001b[39mself\u001b[39m\u001b[39m.\u001b[39m_forward_hooks \u001b[39mor\u001b[39;00m \u001b[39mself\u001b[39m\u001b[39m.\u001b[39m_forward_pre_hooks \u001b[39mor\u001b[39;00m _global_backward_hooks\n\u001b[1;32m   <a href='file:///usr/local/lib/python3.9/site-packages/torch/nn/modules/module.py?line=1108'>1109</a>\u001b[0m         \u001b[39mor\u001b[39;00m _global_forward_hooks \u001b[39mor\u001b[39;00m _global_forward_pre_hooks):\n\u001b[0;32m-> <a href='file:///usr/local/lib/python3.9/site-packages/torch/nn/modules/module.py?line=1109'>1110</a>\u001b[0m     \u001b[39mreturn\u001b[39;00m forward_call(\u001b[39m*\u001b[39;49m\u001b[39minput\u001b[39;49m, \u001b[39m*\u001b[39;49m\u001b[39m*\u001b[39;49mkwargs)\n\u001b[1;32m   <a href='file:///usr/local/lib/python3.9/site-packages/torch/nn/modules/module.py?line=1110'>1111</a>\u001b[0m \u001b[39m# Do not call functions when jit is used\u001b[39;00m\n\u001b[1;32m   <a href='file:///usr/local/lib/python3.9/site-packages/torch/nn/modules/module.py?line=1111'>1112</a>\u001b[0m full_backward_hooks, non_full_backward_hooks \u001b[39m=\u001b[39m [], []\n",
      "File \u001b[0;32m/usr/local/lib/python3.9/site-packages/torch/nn/modules/conv.py:447\u001b[0m, in \u001b[0;36mConv2d.forward\u001b[0;34m(self, input)\u001b[0m\n\u001b[1;32m    <a href='file:///usr/local/lib/python3.9/site-packages/torch/nn/modules/conv.py?line=445'>446</a>\u001b[0m \u001b[39mdef\u001b[39;00m \u001b[39mforward\u001b[39m(\u001b[39mself\u001b[39m, \u001b[39minput\u001b[39m: Tensor) \u001b[39m-\u001b[39m\u001b[39m>\u001b[39m Tensor:\n\u001b[0;32m--> <a href='file:///usr/local/lib/python3.9/site-packages/torch/nn/modules/conv.py?line=446'>447</a>\u001b[0m     \u001b[39mreturn\u001b[39;00m \u001b[39mself\u001b[39;49m\u001b[39m.\u001b[39;49m_conv_forward(\u001b[39minput\u001b[39;49m, \u001b[39mself\u001b[39;49m\u001b[39m.\u001b[39;49mweight, \u001b[39mself\u001b[39;49m\u001b[39m.\u001b[39;49mbias)\n",
      "File \u001b[0;32m/usr/local/lib/python3.9/site-packages/torch/nn/modules/conv.py:443\u001b[0m, in \u001b[0;36mConv2d._conv_forward\u001b[0;34m(self, input, weight, bias)\u001b[0m\n\u001b[1;32m    <a href='file:///usr/local/lib/python3.9/site-packages/torch/nn/modules/conv.py?line=438'>439</a>\u001b[0m \u001b[39mif\u001b[39;00m \u001b[39mself\u001b[39m\u001b[39m.\u001b[39mpadding_mode \u001b[39m!=\u001b[39m \u001b[39m'\u001b[39m\u001b[39mzeros\u001b[39m\u001b[39m'\u001b[39m:\n\u001b[1;32m    <a href='file:///usr/local/lib/python3.9/site-packages/torch/nn/modules/conv.py?line=439'>440</a>\u001b[0m     \u001b[39mreturn\u001b[39;00m F\u001b[39m.\u001b[39mconv2d(F\u001b[39m.\u001b[39mpad(\u001b[39minput\u001b[39m, \u001b[39mself\u001b[39m\u001b[39m.\u001b[39m_reversed_padding_repeated_twice, mode\u001b[39m=\u001b[39m\u001b[39mself\u001b[39m\u001b[39m.\u001b[39mpadding_mode),\n\u001b[1;32m    <a href='file:///usr/local/lib/python3.9/site-packages/torch/nn/modules/conv.py?line=440'>441</a>\u001b[0m                     weight, bias, \u001b[39mself\u001b[39m\u001b[39m.\u001b[39mstride,\n\u001b[1;32m    <a href='file:///usr/local/lib/python3.9/site-packages/torch/nn/modules/conv.py?line=441'>442</a>\u001b[0m                     _pair(\u001b[39m0\u001b[39m), \u001b[39mself\u001b[39m\u001b[39m.\u001b[39mdilation, \u001b[39mself\u001b[39m\u001b[39m.\u001b[39mgroups)\n\u001b[0;32m--> <a href='file:///usr/local/lib/python3.9/site-packages/torch/nn/modules/conv.py?line=442'>443</a>\u001b[0m \u001b[39mreturn\u001b[39;00m F\u001b[39m.\u001b[39;49mconv2d(\u001b[39minput\u001b[39;49m, weight, bias, \u001b[39mself\u001b[39;49m\u001b[39m.\u001b[39;49mstride,\n\u001b[1;32m    <a href='file:///usr/local/lib/python3.9/site-packages/torch/nn/modules/conv.py?line=443'>444</a>\u001b[0m                 \u001b[39mself\u001b[39;49m\u001b[39m.\u001b[39;49mpadding, \u001b[39mself\u001b[39;49m\u001b[39m.\u001b[39;49mdilation, \u001b[39mself\u001b[39;49m\u001b[39m.\u001b[39;49mgroups)\n",
      "\u001b[0;31mKeyboardInterrupt\u001b[0m: "
     ]
    },
    {
     "name": "stderr",
     "output_type": "stream",
     "text": [
      "wandb: Network error (ConnectionError), entering retry loop.\n"
     ]
    }
   ],
   "source": [
    "# now train with the loaded model with more layers unlocked\n",
    "\n",
    "optimizer_ft = optim.SGD(resnet50.parameters(), lr=0.001, momentum=0.9)\n",
    "resnet50 = train_model(resnet50, criterion, optimizer_ft, exp_lr_scheduler,\n",
    "                       num_epochs=25)"
   ],
   "metadata": {
    "collapsed": false,
    "pycharm": {
     "name": "#%%\n"
    }
   }
  },
  {
   "cell_type": "code",
   "execution_count": 31,
   "outputs": [
    {
     "data": {
      "text/plain": "<Figure size 432x288 with 1 Axes>",
      "image/png": "iVBORw0KGgoAAAANSUhEUgAAAYAAAAD4CAYAAADlwTGnAAAAOXRFWHRTb2Z0d2FyZQBNYXRwbG90bGliIHZlcnNpb24zLjUuMSwgaHR0cHM6Ly9tYXRwbG90bGliLm9yZy/YYfK9AAAACXBIWXMAAAsTAAALEwEAmpwYAAA1wUlEQVR4nO3dd3hUVfrA8e87M5k0klBSCKETOqEGpCuIqOBKUcSOWFDEXdvq6rrV3bWsrvpzbWBhdRHBBrgLoigoAgImdCRUqQGSUAPpM+f3xwzIQiCTemcy7+d58szMnTn3vjeT3Pfec849R4wxKKWUCj42qwNQSillDU0ASikVpDQBKKVUkNIEoJRSQUoTgFJKBSmH1QGUR2xsrGnevLnVYSilVEBJT0/PMcbEnb08oBJA8+bNSUtLszoMpZQKKCKyq7TlWgWklFJBShOAUkoFKU0ASikVpDQBKKVUkNIEoJRSQUoTgFJKBSlNAEopFaQC6j6Aikp5NwWA1IRUiyOpvEcfWA5ARM+eFkdSef+NvA2ARq3rWhpHZe1Y+QcAGnfoZHEkldcvfzgAzhYxFkdSea/t/xSAZs2aWRxJ1UhJSSE1tWqPYXoFoJRSfu7AgQOsX7++ytcbFFcAp878p14x1eJIKu+LVr0AuPzf71kcSeXVv2s6AKMeHmxxJJXz6p3NARj7x2esDaQKbPztbAA63j3A2kCqQKOnFgMwfvx4iyOpvKlTq+fYpVcASikVpDQBKKVUkNIEoJRSQUoTgFJKBSlNAEopFaQ0ASilVJDSBKCUUkFKE4BSSgUpTQBKBSljDMcLiq0OQ1koKO4ErrQ/ecdFadbf2jgAik56HqcOtzaOqlA0wvMY6PtSFO95DJD9yC92kXOikJwThRSWuIkJDyExJoyY8BAousnzoQDZlwsqGuh59Jd9SbkWUv3rrmRNAEoFgSKXm5wThRw6UcjJIhcAMWEh1I90kpNbRMaBXMJD7NiNQUQsjrYWOuAdx0cTQAA6deY/fq61cQB87BkLyC9iqaxlnrGAAn5flt7nefSz/TiWX8z8DfuZvTqT5T8dwhjo0jiGq7sm8YvOicRHhwHQsMTFf9bu5+0lP/GHwwcQEV5IeoGb+zQjPirM4r2ohKde8Tz6w/fiL1chZ9EEoFQtUlDsYlFGFrPX7GNRRjZFLjctYiO5/9LWXN2lES3j6pxTJtRh59oejbmmexLrHp9NUYmbfy7axhuLd3Br72ZMGpRMvUinBXujqpsmAKUCnMtt+H77Ieas2cf8DQfILSwhLiqUm3s3Y0TXRnRuHONTtY6I4LAJDqedhQ9dwquLtvHO0p+Y+cMe7r64Jbf3b0GEUw8ZtYl+m0oFIGMM6/cdY/bqTP6zLpPs3ELqhDq4olNDRnZNok+rBthtFa/LbxEbyfNjujBhYEv+Pn8zz3+5hX8t28X9lyZzfa+mhNi1A2FtoAlAqQDyU85J5qzZx2drMtmRcxKn3cagdnGM6JrE4HbxhIXYq3R7bRKieGtcKmk7D/Ps/Ax+P2cjby35iYeHtuWqlERslUgyynqaAJTyc1m5Bfx37X7mrNnH2r3HEIHeLRowYWBLruyUSExESLXHkNq8Ph/e3YdFm7P4+/zN/OqD1Uz+dju/uaIdA1rHas+hAKUJQCk/lFtQzPwNB/hsbSZLt+XgNtCxUTRPDGvPVV0SSYwJr/GYRITB7RK4uE08c9bs44UFW7j1nZX0admA31zZjq5N6tZ4TKpyfEoAIrITyAVcQIkxJlVExgB/AtoDvYwxab6WPeO9XwL3ASXAXGPMoxXeE6UCnNttWLb9EDN+2M2XPx6kqMRN0/oRTBqUzIiujUiOj7I6RADsNmF098YM75zI9BW7eWXhNka+upQrOzXk15e3pVUpPY2UfyrPFcAgY0zOGa83AKOByRUoi4gMAkYAnY0xhSISX45YlKo19h/L5+O0vcxM28PeI/nEhIdwfc8mjOyWRLcmdf22eiXUYWd8vxaMSW3Cm4t38NZ3O/jyx4OM6dGYB4a0oWFMAN9DECQqXAVkjNkEVOaPcyLwjDGm0Lu+rIquSKlAU+xy8/WmLGb+sJtvt2TjNtAvuQGPXtGOoR0SqrwxtzrVCXXw4GVtuKVPM15ZuI33V+xi1up93NavOfdenFwjbRSqYnxNAAb4UkQMMNkYM6Uc2zhf2TbAABH5G1AA/NoY88PZhUVkAjABoGnTpuXYrFL+Z0f2CWam7eGT9L3knCgiITqUey9J5rrUJjRtEGF1eJUSWyeUP13dkTv6t+CFBVuYsngHH6zYzT2XtGJ83xaEOwMnqQULXxNAP2NMpreaZoGIZBhjFleyrAOoB/QGegIfikhLY4w5s7A3YUwBSE1NNSgVYPKLXHy+YT8zftjDyp8OY7cJl7aL5/peTRjYOg5HLetT36R+BC+O7eq9hyCDv8/fzLvLdnL/pW24LrVxrdvfQOZTAjDGZHofs0RkFtAL8CkBXKDsXuBT7wF/pYi4gVggu9x7oZQf2rDvGDN+2M2c1ZnkFpbQvEEEv7miHdf0SArsMXZ81D4xmqnje7FixyGenZ/Bb2et563vdvDbYe0Z0iHB6vAUPiQAEYkEbMaYXO/zocCTvqy8jLKzgcHANyLSBnACOaWuSKkAcSy/mM/W7GPGD3vYmHmcUIeN4SmJjO3ZhF4t6vttg251uqhlAz6Z2JevNmXx7PwM7nwvjRFdG/HHX3Skvo4xZClfrgASgFneP1wHMN0YM19ERgH/BOKAuSKyxhhzuYg0At4yxgw7X1nvet8B3hGRDUARMO7s6h+lAkWJ2/DgzDXMW7+fwhI3HRtF85cRHbm6a5JnnP0gJyJc1iGBi9vE8do323hl4TaWbM3hyRGdGN450erwglaZCcAYswPoUsryWcCsUpZnAsMuVNb7XhFwcznjVcpvZOUW8En6Pk4UluB2G77adJDrUpswtmcTOiXFWB2eX3I6bDwwpA2Xd2zIox+vY9L0Vfx3XUOeHNGJuKhQq8MLOnonsFLllFtQzKuLtvPO0p8oKnEzSSDUaWflb4doTxcftU+MZta9fZny3Q5e+mor3+/4lj/+ogMjuyYFZTWZVbQ5XikfudyG6St2M+j5b3jj2+1c1TmRhQ9fTITTQYjdpgf/cnLYbdx7STLzftWfFrGRPDhzLXe+m8aBYwVWhxY09ApAKR8s2ZrDX+f+SMaBXHo2r8c7t/Wkc+O6VodVKyTHR/HxPX2ZuvQnnv9yM5e9+C2/H96BMamN9WqgmmkCUOoCtmWd4Ol5m/g6I4sm9cN57abuXNmpoR6YqpjdJtw5oCVD2ifwm0/W8egn6/jPukyeHp1C43qBfYOcP9MEoFQpjuYV8dJXW5m2fBdhIXYeu7Idt/VtHlBDNASi5rGRfHBXb95fsYunP8/g8hcX89iw9tzUq6nOPVANNAEodZa9R/K48c0V7D2Sxw29mvLgZW2IraM9VGqKzSbc0qc5l7SN57ez1vP72RuYuy6TZ6/pTLMGkVaHV6toI7BSZ9h16CRjJy/naF4RH93Tl7+NStGDv0Wa1I/gvdt78ew1KWzcd5zLX1rM20t+wuXW24WqiiYApbx2ZJ9g7OTlnCwqYfpdvenRrJ7VIQU9EWFsz6YseOhi+raK5S///ZHrJn/PtqwTVodWK2gCUArYejCXsVOWU+xy88FdvfVGLj/TMCaMt8el8uLYLmzLOsGwl7/j9W+2U+JyWx1aQNMEoIJexoHjXD9lOQAzJvSmfWK0xRGp0ogIo7o1ZsFDAxncNp5n52cw+vVlZBw4bnVoAUsTgApqG/Yd44Ypywmx25g5oTetE/xj2kV1fvFRYbxxSw9evbE7+47k84t/LuH/vtpKsV4NlJsmABW01uw5yo1vLifC6WDm3b1pqXPZBpThnRNZ8NDFXNkpkRe/2sLVryxlW1au1WEFFE0AKiil7zrMzW+tICYihJl399buhQGqfqSTl2/oxpRbepCdW8ANb65g16GTVocVMDQBqKCzYschbnl7JXFRoXx4dx+907QWGNqxITMm9KbE5eamt1boeEI+0gSggsrSbTmMm7qSxJgwZk7oTWJMuNUhqSqSHB/Fu7f34mheMTe/vQKdXqRsmgBU0Phmcxa3/+sHmtWPZMaEPsRH1/5pGYNN58Z1eWtcKnsO55FX5NIkUAZNACoofPXjQSa8l06ruDp8MKG3Tj5Si/Vu2YDXb+6Oyxjyil0UFLusDslvaQJQtd78Dfu5Z1o67RKjmH7XRToPbRAY3C6B8BA7Lrdh4rR0ikq0i2hpNAGoWu0/azOZNH01nRvHMO3Oi6gboQf/YBFitxHmsLNoczb3TEvneEGx1SH5HU0Aqtb6dNVe7p+xmh5N6/HeHRcRHaaTswcbp8PGX0d2YvGWbEa9upTt2TqG0Jk0Aaha6cMf9vDwR2vp3bIB/7q9J3VCdeTzYHVz72ZMu/MijuQVM/KVpSzKyLI6JL+hCUDVOtOW7+LRT9bRPzmWd27rSYRTD/7BrnfLBnx2Xz+aNojg9nd/4NVF27SHEJoAVC0zdelP/G72Bga3i+fNW1N1Bi91WuN6EXx8T19+0bkRz32xmfs+WE1eUYnVYVlKT41UrTFl8XaempfB5R0T+OcN3XE69PxG/a9wp53/u74rHRtF8+z8DHZkn2TKLT1oUj847wb36T9ERHaKyHoRWSMiad5lY0Rko4i4RSS1PGXPev/XImJEJLbiu6GC3SsLt/LUvAyGd07klRv14K/OT0S4++JWTB3fi31H8rj6lSWs2HHI6rAsUZ7/kkHGmK7GmFMH+w3AaGBxBcoCICJNgMuA3eWIQ6nTjDG8sGALz3+5hVHdkvi/sV0JsevBX5Xt4jZxzLmvP9HhITz+6Xqrw7FEhf9TjDGbjDGbK7n9F4FHAW2NUeVmjOHvX2zm5a+3MqZHY54f0wWHHvxVObSIjeTWPs3ZkXOSvUfyrA6nxvn632KAL0UkXUQmlHMbpZYVkauBfcaYtRcqLCITRCRNRNKys7PLuWlVWxlj+OvcTbz+zXZuvKgpz17TGbtNrA5LBaABrT21z0u25lgcSc3zNQH0M8Z0B64EJonIwHJs45yyIhIBPAH8oazCxpgpxphUY0xqXFxcOTaraiu32/DHzzby9pKfuK1vc/42shM2PfirCmodX4eE6FC+0wRQOmNMpvcxC5gF9PJ1A+cp2wpoAawVkZ1AY2CViDQsT/Aq+Ljdhidmr+e973cxYWBL/viLDojowV9VnIjQPzmOpdtzcLmDqza6zAQgIpEiEnXqOTAUTwNwmc5X1hiz3hgTb4xpboxpDuwFuhtjDlRwP1QQcLkNj3y8jg9W7mHSoFY8fmU7PfirKjGwTSxH84rZsO+Y1aHUKF/uA0gAZnn/0RzAdGPMfBEZBfwTiAPmisgaY8zlItIIeMsYM+x8ZatjR4LN1oO5LN9xCESIDnMQFeYgKiyE6LAQ73MHkU5HrakaKXG5efijtcxZk8mDQ9rwq0uT9eCvqky/ZG87wLYcujSpa20wNajMBGCM2QF0KWX5LDxVOmcvzwSGXahsKWWa+xBrUCsodvH9jkMUFLspcbu57MWye9+KQFSoJzFEhTmIDgshOvzn16Uljab1I/xucvRil5sHZqxh7vr9PHJ5WyYNSrY6JFXLxNYJpUNiNIu3ZAfV35feCezHMo/ms2hzFgs3ZbF0ew4FxW6ed7mx24W/jerEwNZxhIbYyC0oIbeghOP5xd7nxRwvKP55eUExx/M9yzOPFpBbmHv69dlVniLwmyvacffAln5zhv3SV1uYu34/vxvenjsHtLQ6HFVLDWgTyztLfuJkYQmRQTJ4YHDsZYBwuQ1r9hzh601ZLMzIIuNALgCN64VzXWoTBreLp3C95ysbdVGz0+Xioyq2PWMMeUWu00kit6CYd5bu5JnPM9hyMJenR6cQ6rB+LJ3s3EJi64TqwV9VqwHJcUz+dgffbz/EkA4JVodTIzQBWOxoXhHfbslmUUYW327J5kheMXabkNqsHo9f2Y7B7eJJjq9z+mz8iyrctogQGeogMtRBwxjP/Ljdm9ajTXwUL361hZ05J5l8S6rl0ycmRIdx+GQhLrfRvv6q2qQ2r0e9iBAe+nANfx7RkZFdk/zmKri6SCANiZqammrS0s4ZTqhMN742mh1he0mW5hXbcJF3EglnVdSNG1xuKHG7KXGZ093ORMBhs+GwCw6bnPcPb9T0jTQ/aChJaFwFsZxfsctNfrELESHCacdeDf8IW+NGc6JOYyKSLtzzorjETUGxizphDr/8h8ze+h1uVza5SdX7ndSEq0suoq4zgb21YOa0ze6VHJITJIb53rPHbSC/2IXLbQixCWEhdqrkT67opOfRGVmh4geKImhYL5Lxv3q8QuVFJP3soXggSK4ALjne0/Mk3JrtG+M50Je4DcUuN6dyrs0mhDo8B33PmW3Zf2mr29QhssRQr3pDJsRuwyZCXrGLk4UlhDvthNiqdpiFWNcPuMIMEH3Bz536BzSGqvlnrGLH6nXAXZxRK8ZWX1ewj2aOGOwEfgJo44LtjvLNAGYTiHTaKSpxU1ji5kRRCeEOOw67tX94Dckmhb1Vvt6gSAAj6w1nJMOJH9+5YiuYOtzzOP5Dn4vsO5rPwowsFmV4GnALS9xEOO30S45lcLt4BrWNP13tUh5T9r/C7iS44rf3lbtsRRw8XsCE99JYt+8Yvx7alnsvaVVlZ+Fz5w0ilh0MH7bogp9bvfsIo15bxtvXp3Jpe/+rm71s8WdAcxYMvNrqUCqt0z8WArDh4QEWR1J5G596nHig4+NLKlR+68FcHv5oLev2HuOqzok8OaIT9SMrmBhPH0PmVq58FQuKBFATSlxuVu0+evqgv/mgpwG3af0IbujVlMHt4rmoZX2/aFQtj4ToMGbe3YdHPl7Hc19sZlvWCZ4enVKjE63ER3sSZVZuYY1tU6nWCVF8OrEvb3y7nf/7eivLdxzmqVGdGNqx9gxYoAmgEo6c9DTgLvQ24B7LL8ZhE3o2r88Tw9ozqF08reIi/bLeujzCQuy8fH1X2sTX4R8LtrDz0Ekm39KD+KjyX8FURFwdTyP0weMFNbI9pU5x2G3cN7g1g9sl8PBHa5nw73RGd0vij7/oSExEiNXhVZomgHIwxpBxIJeFGZ5umqt3H8FtILaOkyHtE7i0fTz9W8cSHRb4fxhnExF+eWlrkuPr8NCHaxn5ylLeHJdKx0Yx1b5tp8NG/UinXgEoy3RoFM2cSf14ZeFWXv1mO0u35/DMNZ0Z1Dbe6tAqRROADwpKXGQezeemZxay/5jnLDQlKcZ7ZhBP56SYWjPkQlmuTEmkSf0I7novjWtf/54Xx3bhik6J1b7d+KhQso5rAlDWcTpsPDS0LZd1aMjDH61h/NQfGJvahN9d1Z6oAD3p0wTgg4PHC8jKLaRz6xgeGNKaQW3jT9dLB6NOSTHMmdSPCf9O555pq/j10DZMGlS9Y/PER4eRnatVQMp6KY1j+M8v+/Pigq1MWbydJdty+Pu1nU+PJxRIakPPtWp3qg/8qzd2Z2zPpkF98D8lPjqMGRN6M6JrI57/cgsPzFxDQbGr+rYXFcpBvQJQfiLUYeexK9vx8cS+hDps3PTWCj5YGXgz22oC8IHd2wf4eEGJxZH4l7AQOy+N7cojl7dlzppMxk5ZTlY1NdTGR4WSc6IQd5CN1678W/em9Zh3/wAGtonjD3M2kL7riNUhlYsmAB84vDdAHcsvtjgS/yMiTBqUzBs392DLgVxGvLq0WsZUT4gOo8RtOJxXVOXrVqoywkLs/PP6biTGhDNxWnpA9VbTBOADh7eBVxPA+V3RqSEfT+yDANe+sYzP1++v0vXHR2lXUOW/YiJCmHJrD04UljBxWjpFJW6rQ/KJJgAf2DUB+KRjoxhm39eP9onRTHx/FS9/vZWqGmsqPtqTALQrqPJX7RpG89y1XVi1+yivLtpmdTg+0QTgg1PjgGgCKFt8VBgf3NWbUd2SeGHBFn41o2oah0/ddJatDcHKjw3vnEjbhCg27T9udSg+0W6gPtA2gPIJC7HzwnVdaJ1Qh+e+2MzuQyeZcmsqCZXoPXVq6Iks7Qqq/FxMRAjHCwLjWKEJwAen2gCOawLwmYhw7yXJJMfV4YGZa7j6lSW8dWtPUhr7dudwscvN2j1HWbw1hyVbs1mz5+jp9Srlz6LDQsg8mm91GD7RBOADmwgimgAqYmjHhnwysS93vpvGmMnL+MeYrgzvfO6dw8YYdh7K47ut2Xy3NYfvtx/iRGEJNoHOjesyaVAy/ZNjSW1e34K9UMp30eEOMg4ExrFCE4CPHDabVgFVUPvEaGZP6sc909KZNH0VW7Nac/+lrTHGMw3m45+uY/GWHPZ5z5oa1wvnF10aMbB1LH1bxdaKQbdU8IgOCwmYk0VNAD5y2EQTQCXERYUy/a6LePzT9bz01VY+WbWXe5M9N9b9d+1++rRqwD0Xt2RA6ziaNYjQqh4VsKLDQ8gtLMHtNn4/RpgmAB/ZNQFUWqjDzj/GdKFjoxgWZWR5ZkOzCav/cBkOu3ZIU7VDdJgDY+BEUYnfjwys/3U+0iuAqiEi3NG/BdPuvIhQhw27TfTgr2qV6HDPQT8QqoF8+s8TkZ0isl5E1ohImnfZGBHZKCJuETlnsuELlfUuf05EMkRknYjMEpG6ld6bauSwaxuAUqpsp876j+f7/9hh5Tn1GmSM6XrGzPIbgNHA4gqUBVgAdDLGdAa2ABWb7r6GaBWQUsoX0eGemvVAuBegwtfexphNxpjNlSj/pTHmVIpcDjSu6LpqgsMm5BaU4NLRKJVSF/DzFUDtSQAG+FJE0kVkQjm34UvZ24HPS3tDRCaISJqIpGVnZ5dz01Xn1M1gJ3RIaKXUBTSqGw7A1qwTFkdSNl8TQD9jTHfgSmCSiAwsxzYuWFZEngBKgPdLK2yMmWKMSTXGpMbFxZVjs1VLB4RTSvmifqSTDonRfLfVuhNWX/mUAIwxmd7HLGAW0MvXDVyorIiMA64CbjJVNWxkNTnVU0UTgFKqLANax5K+6wh5Rf5dY1BmAhCRSBGJOvUcGIqnAbhMFyorIlcAvwGuNsbkVSz8mqNzAiilfNW/dSzFLsOKnw5bHcoF+XIFkAAsEZG1wEpgrjFmvoiMEpG9QB9groh8ASAijURk3oXKet97BYgCFni7iL5RhftV5TQBKKV81bN5fZwOG0u25lgdygWVeSewMWYH0KWU5bPwVOmcvTwTGHahst73kssbrJXsOieAUspHYSF2ejav5/cJQG/B9JHOCaCUKo/+yXFsPphLlh9PY6oJwEc2gRC7cDRfJyVXP5u9eh+5hSUcLyim3zMLmb16n9UhKT8xoHUsAEu2+e9VgCYAHwlCq7g6rNtzzOpQlJ+YvXofj3+6/vS8x/uO5vP4p+s1CSgAOiRGUz/S6dfVQJoAymFwu3hW7jzMsTytBlLw3BebyT9rvuP8YhfPfVHhG+RVLWKzCX1bNWDJthwM/tnLXRNAOVzaPgGX2/DNliyrQ1F+4HzT/gXKdICq+vVPjiUrt/CcEwV/oQmgHLo2qUuDSCdfb9IEoH6+5d/X5Sr49Pe2A/hrrYEmgHKw24RB7eL5ZnMWxS631eEoiz1yeVvCQ+z/syw8xM4jl7e1KCLlbxrXi6BFbKTf9h7UBFBOQ9oncLyghLSdR6wORVlsZLcknh6dcnr6yqS64Tw9OoWR3ZIsjkz5k37JDTheUILbD0e70Skhy2lA61icdhtfbTpIn1YNrA5HWWxktyReXez5N1rw2GCLo1EVYYyhyOUmv8hFnvfH87yEvGLX6eX5RSU/v1/sfb/ozPdd5BWfu6zI5eYqpyG/2EWk1Tt7Fk0A5RQZ6qBPqwZ8vekgvxveXicvV6oGGGMoKHb/fNAtPnWwLvnfA/AZB+1BxW4M8MCM1WeV+flg7jlou8o9z0dYiI0Ip4PwEDsRTs9PuNNOfFQY4U47ESGnljmIcNppsTHynOpCf6AJoAKGtI/n93M2sj37JMnxdawORym/4HKb02fGpZ1Nl3YAPvMgfO6yMw7uxS7KU4MiAv1C3AiwavfR0wfoCKedehHO/zloe57/fDAP977+n/dDHKefh4fYsdnKeeK3O6x8n68hmgAq4NL2Cfx+zka+3nRQE4CqlT5dtZc9h/P/9yBc5DrnDPzMZYUl5esY4bBJqQfgqDAHCdGhnmWlnE3/XMZOeIjjrIO553Wow8aPTz8NwOJHB1XHr6hW0ARQAY3qhtMhMZqvN2Vx98WtrA5HqSpV5HLz0IdrAXA6bN4z4J8PsOFOO/UjnTSuV9oB2Hug9uFs2unQPihW0wRQQUPax/PKom0cOVlEvUin1eEoVSWMgcJiN31a1mfaHRednghJ1U767VbQpe0TcBtYtFlvClO1R0GJC4PhyRGd9OAfBPQbrqCUpBjio0L1rmBVa6zefYRilxun3UabhCirw1E1QBNABdlswqXt4/l2SzZF5Wz8UsrfuNyGP8zZiCCE+mF3RVU9NAFUwqXtEjhRWMJKP5/3U6myfLByN+v3HSMsxIbe2RI8NAFUQr/kWEIdnruClQpUh08W8dwXm+nTsgEhWu8fVPTbroRwp50BrWP5z9pMtmefsDocpSrk7/MzOFlYwpMjOlodiqphmgAq6ZHL2yEC173xPRszdbYwFVhW7T7CjB/2cHv/FrTWht+gowmgkto2jOLDu/sQ6rBx/ZTlpO/S9gAVGDwNvxtIiA7lV5e2tjocZQFNAFWgZVwdPprYl9g6odz81kq+25ptdUhKlWn6yt1s2Hec3w3vQJ1QvSc0GGkCqCJJdcP58O4+NGsQwR3/SmP+hgNWh6TUeR06Uchz8zPo26oBV3VOtDocZRGfEoCI7BSR9SKyRkTSvMvGiMhGEXGLSGp5ynqX1xeRBSKy1ftYr/K7Y624qFBmTuhDp6RoJk1fxSfpe60OSalSPTs/g7wiF0+O6KhDmgex8lwBDDLGdDXGnDrYbwBGA4srUBbgMeBrY0xr4Gvv64AXExHCv++4iD4tG/DwR2t57/udVoek1P9YtfsIH6bt5Y7+LUiO14bfYFbhKiBjzCZjzOZKbHsE8K73+bvAyEqsy69Ehjp4a1wqQzsk8Ic5G3l10TaMH04Hp4KPy234/ewNNIwO45fa8Bv0fE0ABvhSRNJFZEI5t3G+sgnGmP0A3sf40gqLyAQRSRORtOzswGlcDQux89pN3RndLYnnvtjMM59naBJQlpu+YhcbM4/zu6vaa8Ov8nk46H7GmEwRiQcWiEiGMcaXqp/KlsUYMwWYApCamhpQR1CH3cbzY7oQGepg8uId5BaW8JcRnbCXdzYhpapAzolCnvtiM/2SGzA8RRt+lY9XAMaYTO9jFjAL6OXrBi5Q9qCIJAJ4H2vlsJo2m/DkiI7ce0krpq/YzYMz11Ds0sHjVM179vMM8otd/PnqTtrwqwAfEoCIRIpI1KnnwFA8DcBlKqPsZ8A47/NxwJzyhR44RIRHr2jHb65ox2drM7nn3+kUFLusDksFkfRdR/gofS+392+h05iq03y5AkgAlojIWmAlMNcYM19ERonIXqAPMFdEvgAQkUYiMu9CZb3vPQNcJiJbgcu8r2u1iZe04q8jO7Fwcxa3TV3JicISq0NSQeDMht9fDdaGX/WzMtsAjDE7gC6lLJ+Fp0rn7OWZwLALlfW+dwi4tJzxBrybezcjKszBQx+u5aY3l/Ov8b10SklVrd5fsYsf9x/n1Ru7E6kNv+oMeiewBUZ0TWLyzT3YdCCX66csJ+t4gdUhqVrqVMNv/+RYhqU0tDoc5Wc0AVhkSIcE/nVbT/YcyWPM5O/ZczjP6pBULfTM5xkUFLv409V6x686lyYAC/VNjuX9Oy/iaF4xY974nm1ZuVaHpGqR9F2H+Th9L3cOaKkNv6pUEkg3J6Wmppq0tLSyP3iWeU++TcuCxmRHVXC8/qKTnkdnZMXKl8FlDHlFnl5BEU479gucqW08uZdDtlwaFAb+FUP8Rd8RGXkECpKtDqVSnq5zPbtoTtLxkzW2TYPh1L+uMZ67LTlzGVBU4sYYqBNmR3yc6HHvZrCdKKFnk4Afmotf73+IDrKLyKbdrA4FDqzzPDbsXMHy66FhCoyfW6HiIpJ+1lA8gO83ggW0b6J/ACAK/xz3xC5CpNNOXpGLvEKXJwmc52axFrk23LYCqAXtxof2t8cWt5PwUKsjqZwex1ZQKCFA3Uqtx22M56ANp+8a//ng7llW3tO18BDfD/4AUXUKcBbUjt5pq2OG0NS+jOo5bathDVMg5doqX21QJIDsdoV8xBKmXjG1YiuYOtzzWMHs66vMo/nc/PYKMo/m89pN3RncLuGcz3wxvBetgMvnrqzWWGrCB3dNJx8Y+eaNVodSKdvuvI+WLGbSW69UeB3HC4oZ8cpSco7mEx8VSqTTQbjTTmSonQingwinnYhQB5FO+/88D3d6l4V6P+O0E+n9fFRYCOFOe7nimPnnx0Bg7N21oVd2H6sD+FkNHUPKKygSQKBo5J1T4LapK7nj3TQev7Iddw1oqY13tZzbbXho5hr2HM7jgwm96dm8vtUhqSChjcB+JrZOKB/e3YdhnRJ5al4GD3+0Vu8aruX+uXAbX23K4vdXddCDv6pRmgD8UITTwSs3duPBIW34dNU+bnhT7xWorRZmHOSlr7cwunsSt/ZpZnU4KshoAvBTIsL9Q1rz+k3dydify9WvLGX93gr2YlJ+6aeck9w/Yw0dG0Xz1KgUrepTNU4TgJ+7MiWRTyb2xW4TxkxeRrErcLrtqvM7WVjC3f9Ow2ET3ri5B2Eh5WusVaoqaAIIAB0aRTPnvn6kJMWQX+yisMSN262JIFAZY3j0k3VsyzrBP2/oTuN6EVaHpIKUJoAAEVsnlPfv7I3TbqOwxM0909I5qaOJBqQpi3cwd91+fnNFO/q3jrU6HBXENAEEEKfDRliI5+erTQe55vVlOoZQgFmyNYdn52cwvHMiEwa2tDocFeQ0AQQgp93Gu7f3IvNoPiNeXcryHYesDkn5YM/hPH75wSpax0fx92s6a6OvspwmgAA1oHUcsyf1o25ECDe/tYLpK3ZbHZK6gIJiF/dMS6fEbZh8Sw8dl1/5BU0AAaxlXB1mT+pHv+RYfjtrPX+cs0HnG/ZDxhh+O2s9P+4/zv9d35XmsbVidBpVC2gCCHDRYSG8c1tP7hrQgne/38W4d1Zy5GSR1WGpM7z3/S4+XbWPBy5tU+r4TkpZRRNALWC3CU8M78DzY7qQtvMII19bytaDOreAP1j502H+8t8fGdI+gV8ODuxhr1XtowmgFrm2R2M+mNCbk4UuRr22jK83HbQ6pKB24FgB976/iqb1I3hhbBds5xniWymraAKoZXo0q8dn9/WjeWwEd76XxuvfbCeQJv2pLQpLXEx8P538ohIm39KD6LAQq0NS6hyaAGqhRnXD+ejuvgxLSeTZ+Rm89s12q0MKOn/+z4+s3n2U58d0oXWCf05EpJT2Raulwp12/nl9N5x2G899sZn4qFDGpDYp1zqWbsthW9YJxvVtXj1B1lIzf9jN9BW7mXhJK65MSbQ6HKXOSxNALWazCc9e05mcE4U89ul6YqNCGdQ2/oJlck4UMnfdfmav2cfq3UcBGNU9SaswfLRmz1F+P3sjA1rH8uuhba0OR6kL8qkKSER2ish6EVkjImneZWNEZKOIuEXknMmGzypvF5HVIvLfM5Z1FZHlp9YpIr0qtyuqNE6Hjddv7kG7hlHcO20Va/ccPeczJwpL+HTVXsa9s5KLnvqaP362kfwiF1d0bAjAH2ZvqOGoA1POiUImTksnPjqUl6/vdt55nZXyF+W5AhhkjMk54/UGYDQw2Yey9wObgOgzlv0d+LMx5nMRGeZ9fUk54lE+qhPqYOr4nlzz+jJu/9cPfDKxL43qhrN4SzZz1may4McDFBS7Saobzt0DWzKiaxJtG3rqrV/+eisvLNjCoHbxjOiaZPGe+LdJ76/iSF4Rn0zsS71Ip9XhKFWmClcBGWM2AWWOZyIijYHhwN+Ah85cBT8nhBggs6KxqLLFR4Xx7vheXPP6Mq6b/D1FLjdH84qpFxHCtT0aM6JrEj2a1junq+K9l7Ti2y3Z/G7WBno0q6dDF59HQbGLFT8d5qWxXenYKMbqcJTyia+9gAzwpYiki8iEcm7jJeBR4OwxCh4AnhORPcDzwOOlFRaRCd4qorTs7OxyblqdqWVcHd65rSfhTjsDW8fxzm2prHxiCH8dmULP5vVL7afusNt4aWxXDPDQzLW4dB6CcxS73BSVuBnfrzkju+lVkgocviaAfsaY7sCVwCQRGehLIRG5CsgyxqSX8vZE4EFjTBPgQeDt0tZhjJlijEk1xqTGxcX5GK46n25N6/HtI4N4+YZuDG6XQIi97D+BJvUjeHJER1buPMwb32qX0jNtzDxGQbELh1347bD2VoejVLn4lACMMZnexyxgFuBrg20/4GoR2QnMAAaLyDTve+OAT73PPyrHOpUFRnVL4qrOiby4YEupDcnB6GheEfdMS0cQwkPsPiVTpfxJmX+xIhIpIlGnngND8TQAl8kY87gxprExpjlwPbDQGHOz9+1M4GLv88HA1nLGrmqQiPC3kSnER4XywMw1QT8bmctt+OUHqzl4rJBwp13H9lcByZdTlgRgiYisBVYCc40x80VklIjsBfoAc0XkCwARaSQi83xY713AP7zrfQoob9uCqmExESH847qu7Dx0kr/O/dHqcCz1jy83893WHJ4c0VG7e6qAVWYvIGPMDqBLKctn4akOOnt5JjCslOXfAN+c8XoJ0KNc0SrL9WnVgLsHtuKNb7dzSdt4LvfeKxBM5m/Yz2vfbOeGXk24vldTXp1idURKVYxWWqpye+iyNnRKiuaxT9Zx8HiB1eHUqK0Hc3n4w7V0bVKXP13d0epwlKoUTQCq3JwOGy+N7UZ+sYtff7QWd5B0DT1eUMzd/04n3Gnn9Zu7E+qwWx2SUpWiCUBVSHJ8HX43vAPfbc1h6rKdVodT7dxuw0Mz17L7cB6v3tidxJhwq0NSqtI0AagKu+mipgxpH8+zn2ewaf9xq8OpVq8s2sZXmw7yxPD2XNSygdXhKFUlNAGoChPxjDYaHR7CgzPX1NqJZxZlZPHiV1sY1S2J23RobFWLaAJQldKgTiiPXtGWjAO5rKmFN4jtzDnJ/TNW075hNE+NStH+/qpW0QSgKu3yjg0JsQvz1u+3OpQqdfhkEXf/Ox2bTZh8Sw/Cndroq2oXTQCq0mLCQxjQOo556w/UmmqgXYdOcs3ry9h56CSv3tidJvV1FFRV+2gCUFXiyk4N2Xc0n3V7j1kdSqWt3XOU0a8t40heEdPvuoh+ybFWh6RUtdAEoKrE0A4NcdiEeRsCuxpoYcZBrp+ynIhQO59M7EuPZvWtDkmpaqMJQFWJmIgQ+iXHMm/9/oCtBpqxcjd3vZdOcnwdPpnYl1ZxdawOSalqpQlAVZnhKYnsOZzPhn2BdU+AMYYXFmzhsU/X0z85lhkTehMfFWZ1WEpVO00AqsoM7ZgQcNVAxS43j3y8jpe/3sp1qY15a1wqkaEVnilVqYCiCUBVmboRTvq0ahAw1UAnCku44900Pk7fywNDWvPsNZ11UhcVVPSvXVWp4SmJ7DqUx8ZM/64GyjpewNjJ37N0Ww7PXpPCA0Pa6E1eKuhoAlBVamjHhthtwud+XA20LesEo15bxk85J3lrXCpjeza1OiSlLKEJQFWp+pFO+rRs4Lc3haXtPMy1byyjsMTFjAm9GdQ23uqQlLKMJgBV5YalJPJTzkk27c+1OpT/8fn6/dz41grqRTj5dGI/Ojeua3VISllKE4CqckM7JmAT/KoaaOrSn7h3+io6NYrmk4l9adpAh3ZQShOAqnKxdULp3bIBc/2gN5DbbXhq3ib+/J8fuax9Au/f2Zv6kU5LY1LKX2gCUNViWEoiO7JPsuXgCctiKCxxcf/MNUxZvINb+zTj9Zt1RE+lzqQJQFWLyzs2xCYw16Ihoo/lFzPunZX8Z20mv7miHX++uiN2m3bzVOpMmgBUtYiLCqVXi/qWzBGQeTSfMW8sI33XEV4a25WJl7TSPv5KlUITgKo2w1IS2ZZ1gq0Ha643UMaB44x+bRn7jxbwr/G9GNktqca2rVSg8WnQExHZCeQCLqDEGJMqImOAPwHtgV7GmLQLlLcDacA+Y8xVZyz/JXAfUALMNcY8WsH9UH7oik4N+eNnG5k0fRWN6objsNkIsQshdhsOu5BS7ALgT59txGETHHbP+w6b5/1Tz0Psnvcctp/Lnrk8xFs2K7eAxz9ZT2Sogw/v6UP7xGiLfwNK+bfyjHo1yBiTc8brDcBoYLIPZe8HNgGn/yNFZBAwAuhsjCkUEf++I+fAepg63OoooOik59EfYilDPPBtbB7H84oxJ8FgMAbPD4aNrnEADF915+llFe005AZigWkhdtrFRRE6vwYbe4u8f7oB8J2U6VSNXW3YF39yYD00TLE6inNUeNhDY8wmoMy6VRFpDAwH/gY8dMZbE4FnjDGF3vVlVTSWapdyrdURBKymF5hKMWO752+n51mTrpxOFHiGanabc5PH+Z5HhYVg1/p+5W8apvjlccTXBGCAL0XEAJONMVPKsY2XgEeBqLOWtwEGiMjfgALg18aYH84uLCITgAkATZtaNGZL6njPjz/4uJfncfxca+OoCsumex7P2hfx/gSMpfd5HmvDd7L7Mc/j+GesjUPVCF8bgfsZY7oDVwKTRGSgL4VE5CogyxiTXsrbDqAe0Bt4BPhQSrmcMMZMMcakGmNS4+LifAxXKaVUWXxKAMaYTO9jFjAL6OXj+vsBV3sbkWcAg0Vkmve9vcCnxmMlP1fjKqWUqgFlJgARiRSRqFPPgaF4GoDLZIx53BjT2BjTHLgeWGiMudn79mxgsHe9bQAnkFPaepRSSlU9X64AEoAlIrIWWImnu+Z8ERklInuBPsBcEfkCQEQaicg8H9b7DtBSRDbguToYZ6weOEYppYJImY3AxpgdQJdSls/CUx109vJMYFgpy78BvjnjdRFw89mfU0opVTP0TmCllApSmgCUUipIaQJQSqkgVeE7gQPN5sObGT/fT27mqoSrS/JpftCw65ZbrQ6l0tzugZyo05hZ/1hldSiVUlzowriymfnnx6wOpdKyd/5EXPMWVoehakhQJIBhLc9pkw5Yuy5qQpMfa0dnqSbOAxys18TqMCqtXqNuuIoyrA6jSsQ1b0H7fpdYHYaqIRJIPS9TU1NNWtp5Bx1VSilVChFJN8aknr1c2wCUUipIaQJQSqkgpQlAKaWClCYApZQKUpoAlFIqSGkCUEqpIKUJQCmlgpQmAKWUClIBdSOYiGQDu6yOo4bEEtwT5ATz/uu+B6/q2v9mxphz5tQNqAQQTEQkrbQ794JFMO+/7ntw7jvU/P5rFZBSSgUpTQBKKRWkNAH4rylWB2CxYN5/3ffgVaP7r20ASikVpPQKQCmlgpQmAKWUClKaACwkIvVFZIGIbPU+1ivlM01EZJGIbBKRjSJyf3nK+ytfYxeRd0QkS0Q2nLX8TyKyT0TWeH8Catq3Ktj/YPjurxCRzSKyTUQeO2N5wH3359uXM94XEXnZ+/46Eenua9nK0ARgrceAr40xrYGvva/PVgI8bIxpD/QGJolIh3KU91e+xv4v4IrzvPeiMaar92deNcRYnSq7/7X6uxcRO/AqcCXQAbjhjL97CKDv3od9wftea+/PBOD1cpStME0A1hoBvOt9/i4w8uwPGGP2G2NWeZ/nApuAJF/L+zGfYjfGLAYO11BMNamy+1/bv/tewDZjzA5jTBEww1suEPmyLyOA94zHcqCuiCT6WLbCNAFYK8EYsx88B3og/kIfFpHmQDdgRUXK+5mqiP0+7+XyO4FUBeJV2f2v7d99ErDnjNd7+fnEBwLruy9rXy70GV/KVpijqlakSiciXwENS3nriXKupw7wCfCAMeZ4VcRW3apq38/jdeAvgPE+/gO4vQrWW2Wqef/9WhXsu5Sy7FSfdb//7s9yoX0p6zO+lK0wTQDVzBgz5HzvichBEUk0xuz3Xu5lnedzIXgO/u8bYz494y2fylulKvb9Aus+eMa63gT+W/FIq0d17j+1/7vfCzQ543VjINO7br//7s9y3n3x4TNOH8pWmFYBWeszYJz3+ThgztkfEBEB3gY2GWNeKG95P1ap2L0HjlNGARvO91k/VdnvrrZ/9z8ArUWkhYg4geu95QLxuz/vvpzhM+BWb2+g3sAxb/WYL2UrzhijPxb9AA3w9ILY6n2s713eCJjnfd4fzyXfOmCN92fYhcoHwo8v++59/QGwHyjGc5Z0h3f5v4H13t/LZ0Ci1ftUw/sfDN/9MGALsB144ozlAffdl7YvwD3APd7ngqe3z3bvvqWW9Xuoih8dCkIppYKUVgEppVSQ0gSglFJBShOAUkoFKU0ASikVpDQBKKVUkNIEoJRSQUoTgFJKBan/B33SUNlMrVBlAAAAAElFTkSuQmCC\n"
     },
     "metadata": {
      "needs_background": "light"
     },
     "output_type": "display_data"
    }
   ],
   "source": [
    "grid_partitioning.plot()"
   ],
   "metadata": {
    "collapsed": false,
    "pycharm": {
     "name": "#%%\n"
    }
   }
  },
  {
   "cell_type": "code",
   "execution_count": 72,
   "outputs": [],
   "source": [
    "\n",
    "\n"
   ],
   "metadata": {
    "collapsed": false,
    "pycharm": {
     "name": "#%%\n"
    }
   }
  }
 ],
 "metadata": {
  "colab": {
   "name": "ResNet50.ipynb",
   "provenance": []
  },
  "interpreter": {
   "hash": "aee8b7b246df8f9039afb4144a1f6fd8d2ca17a180786b69acc140d282b71a49"
  },
  "kernelspec": {
   "name": "pycharm-26df01ad",
   "language": "python",
   "display_name": "PyCharm (CV-GeoGuessr)"
  },
  "language_info": {
   "codemirror_mode": {
    "name": "ipython",
    "version": 3
   },
   "file_extension": ".py",
   "mimetype": "text/x-python",
   "name": "python",
   "nbconvert_exporter": "python",
   "pygments_lexer": "ipython3",
   "version": "3.9.12"
  },
  "orig_nbformat": 4,
  "widgets": {
   "application/vnd.jupyter.widget-state+json": {
    "0f64b8140326437caf3430db3a726eaa": {
     "model_module": "@jupyter-widgets/base",
     "model_module_version": "1.2.0",
     "model_name": "LayoutModel",
     "state": {
      "_model_module": "@jupyter-widgets/base",
      "_model_module_version": "1.2.0",
      "_model_name": "LayoutModel",
      "_view_count": null,
      "_view_module": "@jupyter-widgets/base",
      "_view_module_version": "1.2.0",
      "_view_name": "LayoutView",
      "align_content": null,
      "align_items": null,
      "align_self": null,
      "border": null,
      "bottom": null,
      "display": null,
      "flex": null,
      "flex_flow": null,
      "grid_area": null,
      "grid_auto_columns": null,
      "grid_auto_flow": null,
      "grid_auto_rows": null,
      "grid_column": null,
      "grid_gap": null,
      "grid_row": null,
      "grid_template_areas": null,
      "grid_template_columns": null,
      "grid_template_rows": null,
      "height": null,
      "justify_content": null,
      "justify_items": null,
      "left": null,
      "margin": null,
      "max_height": null,
      "max_width": null,
      "min_height": null,
      "min_width": null,
      "object_fit": null,
      "object_position": null,
      "order": null,
      "overflow": null,
      "overflow_x": null,
      "overflow_y": null,
      "padding": null,
      "right": null,
      "top": null,
      "visibility": null,
      "width": null
     }
    },
    "397c05983cd1469bbe317ebd91834c4b": {
     "model_module": "@jupyter-widgets/controls",
     "model_module_version": "1.5.0",
     "model_name": "DescriptionStyleModel",
     "state": {
      "_model_module": "@jupyter-widgets/controls",
      "_model_module_version": "1.5.0",
      "_model_name": "DescriptionStyleModel",
      "_view_count": null,
      "_view_module": "@jupyter-widgets/base",
      "_view_module_version": "1.2.0",
      "_view_name": "StyleView",
      "description_width": ""
     }
    },
    "3be82de5c7884bd79f9bffee50824fd0": {
     "model_module": "@jupyter-widgets/controls",
     "model_module_version": "1.5.0",
     "model_name": "DescriptionStyleModel",
     "state": {
      "_model_module": "@jupyter-widgets/controls",
      "_model_module_version": "1.5.0",
      "_model_name": "DescriptionStyleModel",
      "_view_count": null,
      "_view_module": "@jupyter-widgets/base",
      "_view_module_version": "1.2.0",
      "_view_name": "StyleView",
      "description_width": ""
     }
    },
    "486968c4e6a34597a0a514c14f7897d5": {
     "model_module": "@jupyter-widgets/controls",
     "model_module_version": "1.5.0",
     "model_name": "HTMLModel",
     "state": {
      "_dom_classes": [],
      "_model_module": "@jupyter-widgets/controls",
      "_model_module_version": "1.5.0",
      "_model_name": "HTMLModel",
      "_view_count": null,
      "_view_module": "@jupyter-widgets/controls",
      "_view_module_version": "1.5.0",
      "_view_name": "HTMLView",
      "description": "",
      "description_tooltip": null,
      "layout": "IPY_MODEL_986785c8f6f44292997a9df788563659",
      "placeholder": "​",
      "style": "IPY_MODEL_3be82de5c7884bd79f9bffee50824fd0",
      "value": "100%"
     }
    },
    "6ad95cd8d48a4b1db926c6a9c0277332": {
     "model_module": "@jupyter-widgets/controls",
     "model_module_version": "1.5.0",
     "model_name": "HBoxModel",
     "state": {
      "_dom_classes": [],
      "_model_module": "@jupyter-widgets/controls",
      "_model_module_version": "1.5.0",
      "_model_name": "HBoxModel",
      "_view_count": null,
      "_view_module": "@jupyter-widgets/controls",
      "_view_module_version": "1.5.0",
      "_view_name": "HBoxView",
      "box_style": "",
      "children": [
       "IPY_MODEL_486968c4e6a34597a0a514c14f7897d5",
       "IPY_MODEL_81e14816a43f44628f138762a55d0a52",
       "IPY_MODEL_bad290b8998548bda6e9d4c1928314b8"
      ],
      "layout": "IPY_MODEL_0f64b8140326437caf3430db3a726eaa"
     }
    },
    "81e14816a43f44628f138762a55d0a52": {
     "model_module": "@jupyter-widgets/controls",
     "model_module_version": "1.5.0",
     "model_name": "FloatProgressModel",
     "state": {
      "_dom_classes": [],
      "_model_module": "@jupyter-widgets/controls",
      "_model_module_version": "1.5.0",
      "_model_name": "FloatProgressModel",
      "_view_count": null,
      "_view_module": "@jupyter-widgets/controls",
      "_view_module_version": "1.5.0",
      "_view_name": "ProgressView",
      "bar_style": "success",
      "description": "",
      "description_tooltip": null,
      "layout": "IPY_MODEL_cfab89d6485142789c8129a6af2299eb",
      "max": 102530333,
      "min": 0,
      "orientation": "horizontal",
      "style": "IPY_MODEL_e8197e6776f444d8a22fc8a653e0ab27",
      "value": 102530333
     }
    },
    "986785c8f6f44292997a9df788563659": {
     "model_module": "@jupyter-widgets/base",
     "model_module_version": "1.2.0",
     "model_name": "LayoutModel",
     "state": {
      "_model_module": "@jupyter-widgets/base",
      "_model_module_version": "1.2.0",
      "_model_name": "LayoutModel",
      "_view_count": null,
      "_view_module": "@jupyter-widgets/base",
      "_view_module_version": "1.2.0",
      "_view_name": "LayoutView",
      "align_content": null,
      "align_items": null,
      "align_self": null,
      "border": null,
      "bottom": null,
      "display": null,
      "flex": null,
      "flex_flow": null,
      "grid_area": null,
      "grid_auto_columns": null,
      "grid_auto_flow": null,
      "grid_auto_rows": null,
      "grid_column": null,
      "grid_gap": null,
      "grid_row": null,
      "grid_template_areas": null,
      "grid_template_columns": null,
      "grid_template_rows": null,
      "height": null,
      "justify_content": null,
      "justify_items": null,
      "left": null,
      "margin": null,
      "max_height": null,
      "max_width": null,
      "min_height": null,
      "min_width": null,
      "object_fit": null,
      "object_position": null,
      "order": null,
      "overflow": null,
      "overflow_x": null,
      "overflow_y": null,
      "padding": null,
      "right": null,
      "top": null,
      "visibility": null,
      "width": null
     }
    },
    "bad290b8998548bda6e9d4c1928314b8": {
     "model_module": "@jupyter-widgets/controls",
     "model_module_version": "1.5.0",
     "model_name": "HTMLModel",
     "state": {
      "_dom_classes": [],
      "_model_module": "@jupyter-widgets/controls",
      "_model_module_version": "1.5.0",
      "_model_name": "HTMLModel",
      "_view_count": null,
      "_view_module": "@jupyter-widgets/controls",
      "_view_module_version": "1.5.0",
      "_view_name": "HTMLView",
      "description": "",
      "description_tooltip": null,
      "layout": "IPY_MODEL_fbc64d6b79e343e7a840f4cfda17a289",
      "placeholder": "​",
      "style": "IPY_MODEL_397c05983cd1469bbe317ebd91834c4b",
      "value": " 97.8M/97.8M [00:03&lt;00:00, 34.8MB/s]"
     }
    },
    "cfab89d6485142789c8129a6af2299eb": {
     "model_module": "@jupyter-widgets/base",
     "model_module_version": "1.2.0",
     "model_name": "LayoutModel",
     "state": {
      "_model_module": "@jupyter-widgets/base",
      "_model_module_version": "1.2.0",
      "_model_name": "LayoutModel",
      "_view_count": null,
      "_view_module": "@jupyter-widgets/base",
      "_view_module_version": "1.2.0",
      "_view_name": "LayoutView",
      "align_content": null,
      "align_items": null,
      "align_self": null,
      "border": null,
      "bottom": null,
      "display": null,
      "flex": null,
      "flex_flow": null,
      "grid_area": null,
      "grid_auto_columns": null,
      "grid_auto_flow": null,
      "grid_auto_rows": null,
      "grid_column": null,
      "grid_gap": null,
      "grid_row": null,
      "grid_template_areas": null,
      "grid_template_columns": null,
      "grid_template_rows": null,
      "height": null,
      "justify_content": null,
      "justify_items": null,
      "left": null,
      "margin": null,
      "max_height": null,
      "max_width": null,
      "min_height": null,
      "min_width": null,
      "object_fit": null,
      "object_position": null,
      "order": null,
      "overflow": null,
      "overflow_x": null,
      "overflow_y": null,
      "padding": null,
      "right": null,
      "top": null,
      "visibility": null,
      "width": null
     }
    },
    "e8197e6776f444d8a22fc8a653e0ab27": {
     "model_module": "@jupyter-widgets/controls",
     "model_module_version": "1.5.0",
     "model_name": "ProgressStyleModel",
     "state": {
      "_model_module": "@jupyter-widgets/controls",
      "_model_module_version": "1.5.0",
      "_model_name": "ProgressStyleModel",
      "_view_count": null,
      "_view_module": "@jupyter-widgets/base",
      "_view_module_version": "1.2.0",
      "_view_name": "StyleView",
      "bar_color": null,
      "description_width": ""
     }
    },
    "fbc64d6b79e343e7a840f4cfda17a289": {
     "model_module": "@jupyter-widgets/base",
     "model_module_version": "1.2.0",
     "model_name": "LayoutModel",
     "state": {
      "_model_module": "@jupyter-widgets/base",
      "_model_module_version": "1.2.0",
      "_model_name": "LayoutModel",
      "_view_count": null,
      "_view_module": "@jupyter-widgets/base",
      "_view_module_version": "1.2.0",
      "_view_name": "LayoutView",
      "align_content": null,
      "align_items": null,
      "align_self": null,
      "border": null,
      "bottom": null,
      "display": null,
      "flex": null,
      "flex_flow": null,
      "grid_area": null,
      "grid_auto_columns": null,
      "grid_auto_flow": null,
      "grid_auto_rows": null,
      "grid_column": null,
      "grid_gap": null,
      "grid_row": null,
      "grid_template_areas": null,
      "grid_template_columns": null,
      "grid_template_rows": null,
      "height": null,
      "justify_content": null,
      "justify_items": null,
      "left": null,
      "margin": null,
      "max_height": null,
      "max_width": null,
      "min_height": null,
      "min_width": null,
      "object_fit": null,
      "object_position": null,
      "order": null,
      "overflow": null,
      "overflow_x": null,
      "overflow_y": null,
      "padding": null,
      "right": null,
      "top": null,
      "visibility": null,
      "width": null
     }
    }
   }
  }
 },
 "nbformat": 4,
 "nbformat_minor": 0
}
