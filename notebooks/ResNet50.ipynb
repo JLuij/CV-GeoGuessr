{
 "cells": [
  {
   "cell_type": "code",
   "execution_count": null,
   "metadata": {
    "collapsed": false,
    "pycharm": {
     "name": "#%%\n"
    }
   },
   "outputs": [],
   "source": [
    "%load_ext autoreload\n",
    "%autoreload 2"
   ]
  },
  {
   "cell_type": "markdown",
   "metadata": {},
   "source": [
    "## Imports"
   ]
  },
  {
   "cell_type": "markdown",
   "metadata": {},
   "source": [
    "### Libraries"
   ]
  },
  {
   "cell_type": "code",
   "execution_count": null,
   "metadata": {
    "id": "GuAMBdiZRYj6"
   },
   "outputs": [],
   "source": [
    "import torch\n",
    "import torch.nn as nn\n",
    "import torchvision.models as models\n",
    "import torchvision.transforms as transforms\n",
    "from torch.utils.data import DataLoader\n",
    "from torchsummary import summary\n",
    "import copy\n",
    "from datetime import time\n",
    "import wandb"
   ]
  },
  {
   "cell_type": "markdown",
   "metadata": {},
   "source": [
    "### Custom"
   ]
  },
  {
   "cell_type": "code",
   "execution_count": null,
   "metadata": {},
   "outputs": [],
   "source": [
    "from cv_geoguessr.data.StreetViewImagesDataset import StreetViewImagesDataset\n",
    "\n",
    "from cv_geoguessr.grid.grid_partitioning import Partitioning\n",
    "\n",
    "from cv_geoguessr.utils.plot_images import plot_images\n",
    "\n",
    "from cv_geoguessr.utils.evaluation import create_confusion_matrix\n"
   ]
  },
  {
   "cell_type": "markdown",
   "metadata": {
    "id": "BU35l2nkR-jQ"
   },
   "source": [
    "## Colab specific\n",
    "\n",
    "Run only when using Colab."
   ]
  },
  {
   "cell_type": "code",
   "execution_count": null,
   "metadata": {
    "colab": {
     "base_uri": "https://localhost:8080/"
    },
    "id": "xFBsSFHYRnly",
    "outputId": "9caa7245-5191-4d28-e4b9-773bb750d4b4"
   },
   "outputs": [],
   "source": [
    "COLAB = False\n",
    "\n",
    "if COLAB:\n",
    "    from google.colab import drive\n",
    "    drive.mount('/content/drive')"
   ]
  },
  {
   "cell_type": "markdown",
   "metadata": {},
   "source": [
    "## Logging in via WandB"
   ]
  },
  {
   "cell_type": "code",
   "execution_count": null,
   "metadata": {},
   "outputs": [],
   "source": [
    "wandb.init(project=\"CV-GeoGuessr\", entity=\"cv-geoguessr\")"
   ]
  },
  {
   "cell_type": "markdown",
   "metadata": {
    "id": "kjG6VYkUUMsn"
   },
   "source": [
    "## Model constants"
   ]
  },
  {
   "cell_type": "code",
   "execution_count": null,
   "metadata": {
    "id": "iICk0TsLUOe-"
   },
   "outputs": [],
   "source": [
    "device = torch.device(\"cuda:0\" if torch.cuda.is_available() else \"cpu\")\n",
    "print(f'Device: {device}')\n",
    "\n",
    "TRAIN_BATCH_SIZE = 32\n",
    "TEST_BATCH_SIZE = 100\n",
    "CELL_WIDTH = 0.04\n",
    "\n",
    "SAMPLES_TO_SHOW = 5\n",
    "\n",
    "IMAGENET_MEAN = torch.tensor([0.485, 0.456, 0.406], device=device)\n",
    "IMAGENET_STD = torch.tensor([0.229, 0.224, 0.225], device=device)\n",
    "\n",
    "CITY_BOUNDS_FILE = '../data/metadata/citybounds/london.csv'\n",
    "CITY_BOUNDS_FILE_GCLOUD = '../data/metadata/city bounds/london.csv'\n",
    "\n",
    "COLAB_LONDON_PHOTO_DIR = lambda train: f'/content/drive/MyDrive/Documents/University/2021-2022/CS4245 Computer Vision/data/images/{\"train\" if train else \"test\"}/london'\n",
    "LOCAL_LONDON_PHOTO_DIR = lambda train: f'../data/images/london/{\"train\" if train else \"test\"}'\n",
    "SJOERD_LONDON_PHOTO_DIR = lambda train: f'../data/images/{\"train_img\" if train else \"test_img\"}/london/'\n",
    "GCLOUD_LONDON_PHOTO_DIR = lambda train: f'../data/images/{\"train\" if train else \"test\"}/'\n",
    "\n",
    "LONDON_PHOTO_DIR = GCLOUD_LONDON_PHOTO_DIR\n",
    "\n",
    "SESSION = \"4th_test_start_from_second_20percent_data_augmentation\"\n",
    "BASE_FOLDER = \"./checkpoints\"\n",
    "CHECKPOINT_FOLDER = f'{BASE_FOLDER}/{SESSION}/'\n",
    "\n",
    "wandb.config.update({\"train_batch_size\": TRAIN_BATCH_SIZE, \"test_batch_size\": TEST_BATCH_SIZE, \"cell_width\": CELL_WIDTH})\n"
   ]
  },
  {
   "cell_type": "markdown",
   "metadata": {},
   "source": [
    "### ImageNet setup"
   ]
  },
  {
   "cell_type": "code",
   "execution_count": null,
   "metadata": {},
   "outputs": [],
   "source": [
    "!wget https://raw.githubusercontent.com/pytorch/hub/master/imagenet_classes.txt -O imagenet_classes.txt"
   ]
  },
  {
   "cell_type": "code",
   "execution_count": null,
   "metadata": {},
   "outputs": [],
   "source": [
    "with open(\"imagenet_classes.txt\", \"r\") as f:\n",
    "    categories = [s.strip() for s in f.readlines()]"
   ]
  },
  {
   "cell_type": "markdown",
   "metadata": {
    "id": "m213hzh1ZNev"
   },
   "source": [
    "## Download ResNet50"
   ]
  },
  {
   "cell_type": "code",
   "execution_count": null,
   "metadata": {},
   "outputs": [],
   "source": [
    "resnet50 = models.resnet50(pretrained=True, progress=True)\n",
    "resnet50.to(device)\n",
    "\n",
    "print('Downloaded ResNet50')"
   ]
  },
  {
   "cell_type": "code",
   "execution_count": null,
   "metadata": {},
   "outputs": [],
   "source": [
    "summary(resnet50, (3, 224, 224))"
   ]
  },
  {
   "cell_type": "markdown",
   "metadata": {
    "id": "tO5rLpFmSBwy"
   },
   "source": [
    "## Load the data"
   ]
  },
  {
   "cell_type": "markdown",
   "metadata": {},
   "source": [
    "### Set up grid portioning"
   ]
  },
  {
   "cell_type": "code",
   "execution_count": null,
   "metadata": {},
   "outputs": [],
   "source": [
    "grid_partitioning = Partitioning(CITY_BOUNDS_FILE_GCLOUD, CELL_WIDTH)\n",
    "\n",
    "grid_partitioning.plot()"
   ]
  },
  {
   "cell_type": "markdown",
   "metadata": {},
   "source": [
    "### Create the data loaders"
   ]
  },
  {
   "cell_type": "code",
   "execution_count": null,
   "metadata": {
    "id": "pedmjKigSBOy"
   },
   "outputs": [],
   "source": [
    "# Add additional random transformation to augment the training dataset\n",
    "data_transforms_train = transforms.Compose([\n",
    "    transforms.ToTensor(),\n",
    "    transforms.RandomPerspective(distortion_scale = .3, p = .4),\n",
    "    transforms.Resize(256),\n",
    "    transforms.CenterCrop((224, 224)),\n",
    "    # transforms.RandomCrop(size = (224,224)),\n",
    "    transforms.ColorJitter(brightness = 0.2, contrast = 0, saturation = 0.05, hue = 0.1),\n",
    "    transforms.Normalize(IMAGENET_MEAN, IMAGENET_STD)\n",
    "])\n",
    "\n",
    "data_transforms_test = transforms.Compose([\n",
    "    transforms.ToTensor(),\n",
    "    transforms.Resize(256),\n",
    "    transforms.CenterCrop((224, 224)),\n",
    "    transforms.Normalize(IMAGENET_MEAN, IMAGENET_STD),\n",
    "])\n",
    "\n",
    "train_data_set = StreetViewImagesDataset(LONDON_PHOTO_DIR(True), grid_partitioning, data_transforms_train)\n",
    "train_loader = DataLoader(train_data_set, batch_size=TRAIN_BATCH_SIZE, shuffle=True)\n",
    "test_data_set = StreetViewImagesDataset(LONDON_PHOTO_DIR(False), grid_partitioning, data_transforms_test)\n",
    "test_loader = DataLoader(test_data_set, batch_size=TEST_BATCH_SIZE, shuffle=True)\n",
    "\n",
    "data_loaders = {\n",
    "    \"train\": train_loader,\n",
    "    \"val\": test_loader\n",
    "}\n",
    "\n",
    "\n",
    "data_set_sizes = {\n",
    "    'train':len(train_data_set),\n",
    "    'val':len(test_data_set),\n",
    "}\n",
    "\n",
    "print(data_set_sizes)"
   ]
  },
  {
   "cell_type": "markdown",
   "metadata": {},
   "source": [
    "### Preview some training images"
   ]
  },
  {
   "cell_type": "code",
   "execution_count": null,
   "metadata": {
    "colab": {
     "base_uri": "https://localhost:8080/",
     "height": 180
    },
    "id": "JEFrtJbYakKJ",
    "outputId": "6f452dce-394b-4617-9ab1-20636d6db3db"
   },
   "outputs": [],
   "source": [
    "examples = enumerate(train_loader)\n",
    "batch_idx, (eval_images, eval_coordinates) = next(examples)\n",
    "eval_images = eval_images.to(device)\n",
    "eval_coordinates = eval_coordinates.to(device)\n",
    "\n",
    "plot_images(eval_images[:SAMPLES_TO_SHOW].cpu(), IMAGENET_MEAN.cpu(), IMAGENET_STD.cpu())"
   ]
  },
  {
   "cell_type": "code",
   "execution_count": null,
   "metadata": {
    "collapsed": false,
    "pycharm": {
     "name": "#%%\n"
    }
   },
   "outputs": [],
   "source": [
    "eval_coordinates[0, :]"
   ]
  },
  {
   "cell_type": "markdown",
   "metadata": {},
   "source": [
    "## Evaluate the model"
   ]
  },
  {
   "cell_type": "code",
   "execution_count": null,
   "metadata": {},
   "outputs": [],
   "source": [
    "resnet50.eval()\n",
    "\n",
    "check_images = eval_images[:SAMPLES_TO_SHOW].to(device)\n",
    "\n",
    "with torch.no_grad():\n",
    "    output = torch.nn.functional.softmax(resnet50(check_images), dim=1)"
   ]
  },
  {
   "cell_type": "code",
   "execution_count": null,
   "metadata": {},
   "outputs": [],
   "source": [
    "for i in output:\n",
    "    top5_prob, top5_catid = torch.topk(i, 5)\n",
    "\n",
    "    for i in range(top5_prob.size(0)):\n",
    "        print(categories[top5_catid[i]], top5_prob[i].item())\n",
    "\n",
    "    print()"
   ]
  },
  {
   "cell_type": "code",
   "execution_count": null,
   "metadata": {},
   "outputs": [],
   "source": [
    "plot_images(check_images.to('cpu').cpu(), IMAGENET_MEAN.cpu(), IMAGENET_STD.cpu())"
   ]
  },
  {
   "cell_type": "markdown",
   "metadata": {
    "collapsed": false,
    "pycharm": {
     "name": "#%% md\n"
    }
   },
   "source": [
    "## Train on the grid output\n"
   ]
  },
  {
   "cell_type": "code",
   "execution_count": null,
   "metadata": {},
   "outputs": [],
   "source": [
    "lr = 0.001\n",
    "momentum = 0.9\n",
    "gamma = 0.1\n",
    "lr_decay_step = 7\n",
    "num_epochs = 50\n",
    "\n",
    "wandb.config.update({\"lr\": lr, \"momentum\": momentum, \"gamma\": gamma, \"lr_decay_step\": lr_decay_step, \"epochs\": num_epochs})"
   ]
  },
  {
   "cell_type": "code",
   "execution_count": null,
   "metadata": {
    "id": "qZPyWDK_RYj_"
   },
   "outputs": [],
   "source": [
    "from torch.optim import lr_scheduler\n",
    "from torch import optim\n",
    "\n",
    "number_of_grid_elements = len(grid_partitioning.cells)\n",
    "\n",
    "wandb.config.update({\"number_of_grid_elements\": number_of_grid_elements})\n",
    "\n",
    "for param in resnet50.parameters():\n",
    "    param.requires_grad = False\n",
    "\n",
    "resnet50.fc = nn.Linear(resnet50.fc.in_features, number_of_grid_elements)\n",
    "resnet50.to(device)\n",
    "\n",
    "criterion = nn.CrossEntropyLoss()\n",
    "\n",
    "# Observe that all parameters are being optimized\n",
    "# We might not want this for the initial few epochs I (sjoerd) think but lets just roll with it\n",
    "optimizer_ft = optim.SGD(resnet50.fc.parameters(), lr=lr, momentum=momentum)\n",
    "\n",
    "# Decay LR by a factor of 0.1 every 7 epochs\n",
    "exp_lr_scheduler = lr_scheduler.StepLR(optimizer_ft, step_size=lr_decay_step, gamma=gamma)"
   ]
  },
  {
   "cell_type": "code",
   "execution_count": null,
   "metadata": {
    "collapsed": false,
    "pycharm": {
     "name": "#%%\n"
    }
   },
   "outputs": [],
   "source": [
    "summary(resnet50, (3, 224, 224))\n"
   ]
  },
  {
   "cell_type": "code",
   "execution_count": null,
   "metadata": {
    "collapsed": false,
    "pycharm": {
     "name": "#%%\n"
    }
   },
   "outputs": [],
   "source": [
    "import os\n",
    "\n",
    "if not os.path.isdir(CHECKPOINT_FOLDER):\n",
    "    os.makedirs(CHECKPOINT_FOLDER)\n",
    "\n",
    "torch.save(resnet50.state_dict(), CHECKPOINT_FOLDER + \"0.ckpt\")"
   ]
  },
  {
   "cell_type": "code",
   "execution_count": null,
   "metadata": {
    "collapsed": false,
    "pycharm": {
     "name": "#%%\n"
    }
   },
   "outputs": [],
   "source": [
    "import copy\n",
    "import time\n",
    "\n",
    "\n",
    "def train_model(model, criterion, optimizer, scheduler, num_epochs=25):\n",
    "    \"\"\"\n",
    "    Trains a model, based on https://pytorch.org/tutorials/beginner/transfer_learning_tutorial.html\n",
    "\n",
    "    :param model: the model to train\n",
    "    :param criterion: the criterion to use\n",
    "    :param optimizer: the optimizer to use\n",
    "    :param scheduler: torch.optim.lr_scheduler\n",
    "    :param num_epochs:\n",
    "    :return: a trained model\n",
    "    \"\"\"\n",
    "\n",
    "    since = time.time()\n",
    "\n",
    "    best_model = copy.deepcopy(model.state_dict())\n",
    "    best_acc = 0.0\n",
    "\n",
    "    for epoch in range(num_epochs):\n",
    "        print(f'Epoch {epoch}/{num_epochs - 1}')\n",
    "        print('-' * 10)\n",
    "\n",
    "        train_acc = 0\n",
    "        test_acc = 0\n",
    "\n",
    "        distance_error = {}\n",
    "        distance_error_count = {}\n",
    "\n",
    "        # Each epoch has a training and validation phase\n",
    "        for phase in ['train', 'val']:\n",
    "            if phase == 'train':\n",
    "                model.train()  # Set model to training mode\n",
    "            else:\n",
    "                model.eval()   # Set model to evaluate mode\n",
    "\n",
    "            running_loss = 0.0\n",
    "            running_corrects = 0\n",
    "\n",
    "            # Iterate over data.\n",
    "            for inputs, labels in data_loaders[phase]:\n",
    "                inputs = inputs.to(device)\n",
    "                labels = labels.to(device)\n",
    "\n",
    "                # Zero the parameter gradients\n",
    "                optimizer.zero_grad()\n",
    "\n",
    "                # Forward: track history if only in train\n",
    "                with torch.set_grad_enabled(phase == 'train'):\n",
    "                    outputs = model(inputs)\n",
    "                    _, preds = torch.max(outputs, 1)\n",
    "\n",
    "                    loss = criterion(outputs, labels)\n",
    "\n",
    "                    # Add distance error metric\n",
    "                    _, actual_label_index = torch.max(labels, 1)\n",
    "                    for index, label in enumerate(actual_label_index[preds != actual_label_index].tolist()):\n",
    "                        distance_error.setdefault(label, 0)\n",
    "                        distance_error[label] += (grid_partitioning.cells[label].centroid).distance(grid_partitioning.cells[preds[index]].centroid)\n",
    "\n",
    "                        distance_error_count.setdefault(label, 0)\n",
    "                        distance_error_count[label] += 1\n",
    "\n",
    "                    # backward + optimize only if in training phase\n",
    "                    if phase == 'train':\n",
    "                        loss.backward()\n",
    "                        optimizer.step()\n",
    "\n",
    "                # Statistics\n",
    "                _, actual_label_index = torch.max(labels, 1)\n",
    "                running_loss += loss.item() * inputs.size(0)\n",
    "                running_corrects += torch.sum(preds == actual_label_index)\n",
    "\n",
    "            if phase == 'train':\n",
    "                scheduler.step()\n",
    "\n",
    "            epoch_loss = running_loss / data_set_sizes[phase]\n",
    "            epoch_acc = running_corrects.double() / data_set_sizes[phase]\n",
    "            \n",
    "            # Append avg distance error\n",
    "            avg_distance = 0\n",
    "            for k in distance_error:\n",
    "                avg_distance += distance_error[k] / distance_error_count[k]\n",
    "            avg /= len(distance_error.keys())\n",
    "\n",
    "            # writer.add_scalar(f\"Loss/{phase}\", epoch_loss, epoch)\n",
    "            wandb.log({f\"Loss/{phase}\": epoch_loss, \"epoch\": epoch})\n",
    "            # writer.add_scalar(f\"Accuracy/{phase}\", epoch_acc, epoch)\n",
    "            wandb.log({f\"Accuracy/{phase}\": epoch_acc, \"epoch\": epoch})\n",
    "\n",
    "            wandb.log({f\"Distance/{phase}\": avg, \"epoch\": epoch})\n",
    "\n",
    "            if phase == 'train':\n",
    "                train_acc = epoch_acc\n",
    "            else:\n",
    "                test_acc = epoch_acc\n",
    "\n",
    "            print(f'{phase} loss: {epoch_loss:.4f} | accuracy: {epoch_acc:.4f}')\n",
    "\n",
    "            # Deep copy the model\n",
    "            if phase == 'val' and epoch_acc > best_acc:\n",
    "                best_acc = epoch_acc\n",
    "                best_model = copy.deepcopy(model.state_dict())\n",
    "\n",
    "        print(f\"{train_acc}\\t{test_acc}\")\n",
    "\n",
    "        torch.save(resnet50.state_dict(),\n",
    "                   CHECKPOINT_FOLDER + f\"epoch_{epoch}.ckpt\")\n",
    "\n",
    "    time_elapsed = time.time() - since\n",
    "\n",
    "    print(\n",
    "        f'Training complete in {time_elapsed // 60:.0f}m {time_elapsed % 60:.0f}s')\n",
    "    print(f'Best val Acc: {best_acc:4f}')\n",
    "\n",
    "    # Load best model weights\n",
    "    model.load_state_dict(best_model)\n",
    "\n",
    "    return model"
   ]
  },
  {
   "cell_type": "code",
   "execution_count": null,
   "metadata": {
    "collapsed": false,
    "pycharm": {
     "name": "#%%\n"
    }
   },
   "outputs": [],
   "source": [
    "# Lets train the model\n",
    "resnet50 = train_model(resnet50, criterion, optimizer_ft, exp_lr_scheduler,\n",
    "                       num_epochs=25)"
   ]
  },
  {
   "cell_type": "code",
   "execution_count": null,
   "metadata": {
    "collapsed": false,
    "pycharm": {
     "name": "#%%\n"
    }
   },
   "outputs": [],
   "source": [
    "from collections import OrderedDict\n",
    "\n",
    "def model_layers(model, input_size, batch_size=-1, device=\"cuda\"):\n",
    "    \"\"\"Returns the layers of the model flattened, based on the summary code\"\"\"\n",
    "\n",
    "    def register_hook(module):\n",
    "\n",
    "        def hook(module, input, output):\n",
    "            class_name = str(module.__class__).split(\".\")[-1].split(\"'\")[0]\n",
    "            module_idx = len(layers)\n",
    "\n",
    "            m_key = \"%s-%i\" % (class_name, module_idx + 1)\n",
    "            layers[m_key] = OrderedDict()\n",
    "            layers[m_key][\"input_shape\"] = list(input[0].size())\n",
    "            layers[m_key][\"input_shape\"][0] = batch_size\n",
    "            if isinstance(output, (list, tuple)):\n",
    "                layers[m_key][\"output_shape\"] = [\n",
    "                    [-1] + list(o.size())[1:] for o in output\n",
    "                ]\n",
    "            else:\n",
    "                layers[m_key][\"output_shape\"] = list(output.size())\n",
    "                layers[m_key][\"output_shape\"][0] = batch_size\n",
    "\n",
    "            params = 0\n",
    "            layers[m_key][\"params\"] = module.parameters()\n",
    "            if hasattr(module, \"weight\") and hasattr(module.weight, \"size\"):\n",
    "                params += torch.prod(torch.LongTensor(list(module.weight.size())))\n",
    "                layers[m_key][\"trainable\"] = module.weight.requires_grad\n",
    "                layers[m_key][\"weights\"] = module.weight\n",
    "            if hasattr(module, \"bias\") and hasattr(module.bias, \"size\"):\n",
    "                params += torch.prod(torch.LongTensor(list(module.bias.size())))\n",
    "            layers[m_key][\"nb_params\"] = params\n",
    "\n",
    "        if (\n",
    "            not isinstance(module, nn.Sequential)\n",
    "            and not isinstance(module, nn.ModuleList)\n",
    "            and not (module == model)\n",
    "        ):\n",
    "            hooks.append(module.register_forward_hook(hook))\n",
    "\n",
    "    device = device.lower()\n",
    "\n",
    "    assert device in [\n",
    "        \"cuda\",\n",
    "        \"cpu\",\n",
    "    ], \"Input device is not valid, please specify 'cuda' or 'cpu'\"\n",
    "\n",
    "    if device == \"cuda\" and torch.cuda.is_available():\n",
    "        dtype = torch.cuda.FloatTensor\n",
    "    else:\n",
    "        dtype = torch.FloatTensor\n",
    "\n",
    "    # multiple inputs to the network\n",
    "    if isinstance(input_size, tuple):\n",
    "        input_size = [input_size]\n",
    "\n",
    "    # batch_size of 2 for batchnorm\n",
    "    x = [torch.rand(2, *in_size).type(dtype) for in_size in input_size]\n",
    "    # print(type(x[0]))\n",
    "\n",
    "    # create properties\n",
    "    layers = OrderedDict()\n",
    "    hooks = []\n",
    "\n",
    "    # register hook\n",
    "    model.apply(register_hook)\n",
    "\n",
    "    # make a forward pass\n",
    "    # print(x.shape)\n",
    "    model(*x)\n",
    "\n",
    "    # remove these hooks\n",
    "    for h in hooks:\n",
    "        h.remove()\n",
    "\n",
    "    return layers\n",
    "\n",
    "\n",
    "# load an old model\n",
    "def load_model(model, PATH, lock_factor, device):\n",
    "    checkpoint = torch.load(PATH)\n",
    "    model.load_state_dict(checkpoint)\n",
    "\n",
    "    layers = model_layers(model, (3, 224, 224))\n",
    "    n = len(layers)\n",
    "    print(n)  # 10 layers\n",
    "    # print(model_layers)\n",
    "\n",
    "    for i, layer in enumerate(layers):\n",
    "        # for layer_param in layer.parameters():\n",
    "        #     layer_param.requires_grad = i > n * lock_factor\n",
    "        for param in layers[layer][\"params\"]:\n",
    "            param.requires_grad = i > n * lock_factor\n",
    "\n",
    "    model.to(device)\n",
    "    summary(model, (3, 224, 224))\n",
    "\n",
    "    return model\n"
   ]
  },
  {
   "cell_type": "code",
   "execution_count": null,
   "metadata": {
    "collapsed": false,
    "pycharm": {
     "name": "#%%\n"
    }
   },
   "outputs": [],
   "source": [
    "MODEL_TO_LOAD_PATH = BASE_FOLDER + \"/second_test/epoch_24.ckpt\"\n",
    "lock_factor = 0.8\n",
    "\n",
    "resnet50 = load_model(resnet50, MODEL_TO_LOAD_PATH, lock_factor, device)"
   ]
  },
  {
   "cell_type": "code",
   "execution_count": null,
   "metadata": {
    "collapsed": false,
    "pycharm": {
     "name": "#%%\n"
    }
   },
   "outputs": [],
   "source": [
    "# now train with the loaded model with more layers unlocked\n",
    "\n",
    "optimizer_ft = optim.SGD(resnet50.parameters(), lr=0.001, momentum=0.9)\n",
    "resnet50 = train_model(resnet50, criterion, optimizer_ft, exp_lr_scheduler,\n",
    "                       num_epochs=25)"
   ]
  },
  {
   "cell_type": "code",
   "execution_count": null,
   "metadata": {
    "collapsed": false,
    "pycharm": {
     "name": "#%%\n"
    }
   },
   "outputs": [],
   "source": [
    "# Running the model evaluation\n",
    "# def run_evaluation(model, partitions, predictions=True):\n",
    "#     n = len(partitions.cells)\n",
    "#     confusion_matrix = torch.zeros((n, n)).to(device)\n",
    "#\n",
    "#     i = 0\n",
    "#     for inputs, labels in dataloaders['val']:\n",
    "#         inputs = inputs.to(device)\n",
    "#         labels = labels.to(device)\n",
    "#\n",
    "#         # forward\n",
    "#         with torch.set_grad_enabled(False):\n",
    "#             outputs = model(inputs)\n",
    "#             _, preds = torch.max(outputs, 1)\n",
    "#\n",
    "#         for label, output, pred in zip(labels, outputs, preds):\n",
    "#             l = torch.argmax(label)\n",
    "#             # print(l)\n",
    "#\n",
    "#             if predictions:\n",
    "#                 confusion_matrix[l, :] += pred\n",
    "#             else:\n",
    "#                 confusion_matrix[l, :] += output\n",
    "#\n",
    "#             i += 1\n",
    "#\n",
    "#     return confusion_matrix\n"
   ]
  },
  {
   "cell_type": "code",
   "execution_count": null,
   "metadata": {
    "collapsed": false,
    "pycharm": {
     "name": "#%%\n"
    }
   },
   "outputs": [],
   "source": [
    "confusion_matrix = create_confusion_matrix(resnet50, grid_partitioning, dataloaders['val'], False, device)\n",
    "print(confusion_matrix.to('cpu'))"
   ]
  },
  {
   "cell_type": "code",
   "execution_count": null,
   "metadata": {
    "collapsed": false,
    "pycharm": {
     "name": "#%%\n"
    }
   },
   "outputs": [],
   "source": [
    "from cv_geoguessr.utils.plot_results import plot_confusion_matrix\n",
    "\n",
    "plot_confusion_matrix(confusion_matrix)"
   ]
  }
 ],
 "metadata": {
  "colab": {
   "name": "ResNet50.ipynb",
   "provenance": []
  },
  "interpreter": {
   "hash": "22a2ae6782dfeb76e442edb2802f1e7a84a8ed5fd9c7e7df8e56b1620f5de874"
  },
  "kernelspec": {
   "display_name": "Python 3.10.4 ('cv_geo_env': conda)",
   "language": "python",
   "name": "python3"
  },
  "language_info": {
   "codemirror_mode": {
    "name": "ipython",
    "version": 3
   },
   "file_extension": ".py",
   "mimetype": "text/x-python",
   "name": "python",
   "nbconvert_exporter": "python",
   "pygments_lexer": "ipython3",
   "version": "3.10.4"
  },
  "orig_nbformat": 4,
  "widgets": {
   "application/vnd.jupyter.widget-state+json": {
    "0f64b8140326437caf3430db3a726eaa": {
     "model_module": "@jupyter-widgets/base",
     "model_module_version": "1.2.0",
     "model_name": "LayoutModel",
     "state": {
      "_model_module": "@jupyter-widgets/base",
      "_model_module_version": "1.2.0",
      "_model_name": "LayoutModel",
      "_view_count": null,
      "_view_module": "@jupyter-widgets/base",
      "_view_module_version": "1.2.0",
      "_view_name": "LayoutView",
      "align_content": null,
      "align_items": null,
      "align_self": null,
      "border": null,
      "bottom": null,
      "display": null,
      "flex": null,
      "flex_flow": null,
      "grid_area": null,
      "grid_auto_columns": null,
      "grid_auto_flow": null,
      "grid_auto_rows": null,
      "grid_column": null,
      "grid_gap": null,
      "grid_row": null,
      "grid_template_areas": null,
      "grid_template_columns": null,
      "grid_template_rows": null,
      "height": null,
      "justify_content": null,
      "justify_items": null,
      "left": null,
      "margin": null,
      "max_height": null,
      "max_width": null,
      "min_height": null,
      "min_width": null,
      "object_fit": null,
      "object_position": null,
      "order": null,
      "overflow": null,
      "overflow_x": null,
      "overflow_y": null,
      "padding": null,
      "right": null,
      "top": null,
      "visibility": null,
      "width": null
     }
    },
    "397c05983cd1469bbe317ebd91834c4b": {
     "model_module": "@jupyter-widgets/controls",
     "model_module_version": "1.5.0",
     "model_name": "DescriptionStyleModel",
     "state": {
      "_model_module": "@jupyter-widgets/controls",
      "_model_module_version": "1.5.0",
      "_model_name": "DescriptionStyleModel",
      "_view_count": null,
      "_view_module": "@jupyter-widgets/base",
      "_view_module_version": "1.2.0",
      "_view_name": "StyleView",
      "description_width": ""
     }
    },
    "3be82de5c7884bd79f9bffee50824fd0": {
     "model_module": "@jupyter-widgets/controls",
     "model_module_version": "1.5.0",
     "model_name": "DescriptionStyleModel",
     "state": {
      "_model_module": "@jupyter-widgets/controls",
      "_model_module_version": "1.5.0",
      "_model_name": "DescriptionStyleModel",
      "_view_count": null,
      "_view_module": "@jupyter-widgets/base",
      "_view_module_version": "1.2.0",
      "_view_name": "StyleView",
      "description_width": ""
     }
    },
    "486968c4e6a34597a0a514c14f7897d5": {
     "model_module": "@jupyter-widgets/controls",
     "model_module_version": "1.5.0",
     "model_name": "HTMLModel",
     "state": {
      "_dom_classes": [],
      "_model_module": "@jupyter-widgets/controls",
      "_model_module_version": "1.5.0",
      "_model_name": "HTMLModel",
      "_view_count": null,
      "_view_module": "@jupyter-widgets/controls",
      "_view_module_version": "1.5.0",
      "_view_name": "HTMLView",
      "description": "",
      "description_tooltip": null,
      "layout": "IPY_MODEL_986785c8f6f44292997a9df788563659",
      "placeholder": "​",
      "style": "IPY_MODEL_3be82de5c7884bd79f9bffee50824fd0",
      "value": "100%"
     }
    },
    "6ad95cd8d48a4b1db926c6a9c0277332": {
     "model_module": "@jupyter-widgets/controls",
     "model_module_version": "1.5.0",
     "model_name": "HBoxModel",
     "state": {
      "_dom_classes": [],
      "_model_module": "@jupyter-widgets/controls",
      "_model_module_version": "1.5.0",
      "_model_name": "HBoxModel",
      "_view_count": null,
      "_view_module": "@jupyter-widgets/controls",
      "_view_module_version": "1.5.0",
      "_view_name": "HBoxView",
      "box_style": "",
      "children": [
       "IPY_MODEL_486968c4e6a34597a0a514c14f7897d5",
       "IPY_MODEL_81e14816a43f44628f138762a55d0a52",
       "IPY_MODEL_bad290b8998548bda6e9d4c1928314b8"
      ],
      "layout": "IPY_MODEL_0f64b8140326437caf3430db3a726eaa"
     }
    },
    "81e14816a43f44628f138762a55d0a52": {
     "model_module": "@jupyter-widgets/controls",
     "model_module_version": "1.5.0",
     "model_name": "FloatProgressModel",
     "state": {
      "_dom_classes": [],
      "_model_module": "@jupyter-widgets/controls",
      "_model_module_version": "1.5.0",
      "_model_name": "FloatProgressModel",
      "_view_count": null,
      "_view_module": "@jupyter-widgets/controls",
      "_view_module_version": "1.5.0",
      "_view_name": "ProgressView",
      "bar_style": "success",
      "description": "",
      "description_tooltip": null,
      "layout": "IPY_MODEL_cfab89d6485142789c8129a6af2299eb",
      "max": 102530333,
      "min": 0,
      "orientation": "horizontal",
      "style": "IPY_MODEL_e8197e6776f444d8a22fc8a653e0ab27",
      "value": 102530333
     }
    },
    "986785c8f6f44292997a9df788563659": {
     "model_module": "@jupyter-widgets/base",
     "model_module_version": "1.2.0",
     "model_name": "LayoutModel",
     "state": {
      "_model_module": "@jupyter-widgets/base",
      "_model_module_version": "1.2.0",
      "_model_name": "LayoutModel",
      "_view_count": null,
      "_view_module": "@jupyter-widgets/base",
      "_view_module_version": "1.2.0",
      "_view_name": "LayoutView",
      "align_content": null,
      "align_items": null,
      "align_self": null,
      "border": null,
      "bottom": null,
      "display": null,
      "flex": null,
      "flex_flow": null,
      "grid_area": null,
      "grid_auto_columns": null,
      "grid_auto_flow": null,
      "grid_auto_rows": null,
      "grid_column": null,
      "grid_gap": null,
      "grid_row": null,
      "grid_template_areas": null,
      "grid_template_columns": null,
      "grid_template_rows": null,
      "height": null,
      "justify_content": null,
      "justify_items": null,
      "left": null,
      "margin": null,
      "max_height": null,
      "max_width": null,
      "min_height": null,
      "min_width": null,
      "object_fit": null,
      "object_position": null,
      "order": null,
      "overflow": null,
      "overflow_x": null,
      "overflow_y": null,
      "padding": null,
      "right": null,
      "top": null,
      "visibility": null,
      "width": null
     }
    },
    "bad290b8998548bda6e9d4c1928314b8": {
     "model_module": "@jupyter-widgets/controls",
     "model_module_version": "1.5.0",
     "model_name": "HTMLModel",
     "state": {
      "_dom_classes": [],
      "_model_module": "@jupyter-widgets/controls",
      "_model_module_version": "1.5.0",
      "_model_name": "HTMLModel",
      "_view_count": null,
      "_view_module": "@jupyter-widgets/controls",
      "_view_module_version": "1.5.0",
      "_view_name": "HTMLView",
      "description": "",
      "description_tooltip": null,
      "layout": "IPY_MODEL_fbc64d6b79e343e7a840f4cfda17a289",
      "placeholder": "​",
      "style": "IPY_MODEL_397c05983cd1469bbe317ebd91834c4b",
      "value": " 97.8M/97.8M [00:03&lt;00:00, 34.8MB/s]"
     }
    },
    "cfab89d6485142789c8129a6af2299eb": {
     "model_module": "@jupyter-widgets/base",
     "model_module_version": "1.2.0",
     "model_name": "LayoutModel",
     "state": {
      "_model_module": "@jupyter-widgets/base",
      "_model_module_version": "1.2.0",
      "_model_name": "LayoutModel",
      "_view_count": null,
      "_view_module": "@jupyter-widgets/base",
      "_view_module_version": "1.2.0",
      "_view_name": "LayoutView",
      "align_content": null,
      "align_items": null,
      "align_self": null,
      "border": null,
      "bottom": null,
      "display": null,
      "flex": null,
      "flex_flow": null,
      "grid_area": null,
      "grid_auto_columns": null,
      "grid_auto_flow": null,
      "grid_auto_rows": null,
      "grid_column": null,
      "grid_gap": null,
      "grid_row": null,
      "grid_template_areas": null,
      "grid_template_columns": null,
      "grid_template_rows": null,
      "height": null,
      "justify_content": null,
      "justify_items": null,
      "left": null,
      "margin": null,
      "max_height": null,
      "max_width": null,
      "min_height": null,
      "min_width": null,
      "object_fit": null,
      "object_position": null,
      "order": null,
      "overflow": null,
      "overflow_x": null,
      "overflow_y": null,
      "padding": null,
      "right": null,
      "top": null,
      "visibility": null,
      "width": null
     }
    },
    "e8197e6776f444d8a22fc8a653e0ab27": {
     "model_module": "@jupyter-widgets/controls",
     "model_module_version": "1.5.0",
     "model_name": "ProgressStyleModel",
     "state": {
      "_model_module": "@jupyter-widgets/controls",
      "_model_module_version": "1.5.0",
      "_model_name": "ProgressStyleModel",
      "_view_count": null,
      "_view_module": "@jupyter-widgets/base",
      "_view_module_version": "1.2.0",
      "_view_name": "StyleView",
      "bar_color": null,
      "description_width": ""
     }
    },
    "fbc64d6b79e343e7a840f4cfda17a289": {
     "model_module": "@jupyter-widgets/base",
     "model_module_version": "1.2.0",
     "model_name": "LayoutModel",
     "state": {
      "_model_module": "@jupyter-widgets/base",
      "_model_module_version": "1.2.0",
      "_model_name": "LayoutModel",
      "_view_count": null,
      "_view_module": "@jupyter-widgets/base",
      "_view_module_version": "1.2.0",
      "_view_name": "LayoutView",
      "align_content": null,
      "align_items": null,
      "align_self": null,
      "border": null,
      "bottom": null,
      "display": null,
      "flex": null,
      "flex_flow": null,
      "grid_area": null,
      "grid_auto_columns": null,
      "grid_auto_flow": null,
      "grid_auto_rows": null,
      "grid_column": null,
      "grid_gap": null,
      "grid_row": null,
      "grid_template_areas": null,
      "grid_template_columns": null,
      "grid_template_rows": null,
      "height": null,
      "justify_content": null,
      "justify_items": null,
      "left": null,
      "margin": null,
      "max_height": null,
      "max_width": null,
      "min_height": null,
      "min_width": null,
      "object_fit": null,
      "object_position": null,
      "order": null,
      "overflow": null,
      "overflow_x": null,
      "overflow_y": null,
      "padding": null,
      "right": null,
      "top": null,
      "visibility": null,
      "width": null
     }
    }
   }
  }
 },
 "nbformat": 4,
 "nbformat_minor": 0
}
